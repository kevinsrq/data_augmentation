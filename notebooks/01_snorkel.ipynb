{
 "cells": [
  {
   "cell_type": "markdown",
   "metadata": {},
   "source": [
    "# Utilização do Snorkel \n",
    "--- \n",
    "### 01. Import da base"
   ]
  },
  {
   "cell_type": "code",
   "execution_count": 1,
   "metadata": {},
   "outputs": [],
   "source": [
    "import pandas as pd \n",
    "import numpy as np "
   ]
  },
  {
   "cell_type": "code",
   "execution_count": 2,
   "metadata": {},
   "outputs": [
    {
     "data": {
      "text/html": [
       "<div>\n",
       "<style scoped>\n",
       "    .dataframe tbody tr th:only-of-type {\n",
       "        vertical-align: middle;\n",
       "    }\n",
       "\n",
       "    .dataframe tbody tr th {\n",
       "        vertical-align: top;\n",
       "    }\n",
       "\n",
       "    .dataframe thead th {\n",
       "        text-align: right;\n",
       "    }\n",
       "</style>\n",
       "<table border=\"1\" class=\"dataframe\">\n",
       "  <thead>\n",
       "    <tr style=\"text-align: right;\">\n",
       "      <th></th>\n",
       "      <th>titulo</th>\n",
       "      <th>genero</th>\n",
       "    </tr>\n",
       "  </thead>\n",
       "  <tbody>\n",
       "    <tr>\n",
       "      <th>0</th>\n",
       "      <td>Iniciação ao Estudo da Administração</td>\n",
       "      <td>Administracao</td>\n",
       "    </tr>\n",
       "    <tr>\n",
       "      <th>1</th>\n",
       "      <td>Iniciação a Administração geral</td>\n",
       "      <td>Administracao</td>\n",
       "    </tr>\n",
       "    <tr>\n",
       "      <th>2</th>\n",
       "      <td>Iniciação a Administração de pessoal</td>\n",
       "      <td>Administracao</td>\n",
       "    </tr>\n",
       "    <tr>\n",
       "      <th>3</th>\n",
       "      <td>Administração de Materiais</td>\n",
       "      <td>Administracao</td>\n",
       "    </tr>\n",
       "    <tr>\n",
       "      <th>4</th>\n",
       "      <td>Gestão Ambiental na Empresa</td>\n",
       "      <td>Administracao</td>\n",
       "    </tr>\n",
       "  </tbody>\n",
       "</table>\n",
       "</div>"
      ],
      "text/plain": [
       "                                 titulo         genero\n",
       "0  Iniciação ao Estudo da Administração  Administracao\n",
       "1       Iniciação a Administração geral  Administracao\n",
       "2  Iniciação a Administração de pessoal  Administracao\n",
       "3            Administração de Materiais  Administracao\n",
       "4           Gestão Ambiental na Empresa  Administracao"
      ]
     },
     "execution_count": 2,
     "metadata": {},
     "output_type": "execute_result"
    }
   ],
   "source": [
    "books_df = pd.read_csv('../data/livros.csv')\n",
    "books_df.columns = books_df.columns.map(str.lower)\n",
    "books_df.head(5)"
   ]
  },
  {
   "cell_type": "markdown",
   "metadata": {},
   "source": [
    "--- \n",
    "\n",
    "### 02. Análise da Base \n",
    "\n",
    "\"Uma maneira de compreender o conteúdo de um texto é realizar uma análise das palavras mais essenciais, ou seja, aquelas que ocorrem com maior frequência e possuem maior significado para o tema abordado. \n",
    "\n",
    "Devido à natureza da base de dados, os títulos geralmente consistem em poucas palavras e têm uma quantidade limitada de exemplos, o que possibilita uma análise mais subjetiva para identificar quais palavras podem ser relevantes na classificação do tópico principal.\""
   ]
  },
  {
   "cell_type": "code",
   "execution_count": 3,
   "metadata": {},
   "outputs": [
    {
     "name": "stderr",
     "output_type": "stream",
     "text": [
      "[nltk_data] Downloading package stopwords to\n",
      "[nltk_data]     C:\\Users\\kevin\\AppData\\Roaming\\nltk_data...\n",
      "[nltk_data]   Package stopwords is already up-to-date!\n"
     ]
    }
   ],
   "source": [
    "import re\n",
    "from unidecode import unidecode \n",
    "import nltk\n",
    "from nltk.corpus import stopwords\n",
    "import spacy\n",
    "\n",
    "# Download Portuguese stopwords from the NLTK library\n",
    "nltk.download('stopwords')\n",
    "\n",
    "def remove_special_characters_and_stopwords(text):\n",
    "    \"\"\"\n",
    "    Removes special characters (except Latin usual characters),\n",
    "    tokenizes the text, and removes Portuguese stopwords.\n",
    "    \n",
    "    Args:\n",
    "        text (str): The input text to process.\n",
    "        \n",
    "    Returns:\n",
    "        list of str: A list of cleaned and tokenized words without stopwords.\n",
    "    \"\"\"\n",
    "    # Remove special characters (except Latin usual characters)\n",
    "    clean_text = re.sub(r'[^\\w\\s]', ' ', text)\n",
    "    \n",
    "    # Remove accents and diacritics from the text (e.g., converting é to e)\n",
    "    clean_text = unidecode(clean_text)\n",
    "    \n",
    "    # Tokenize the cleaned text into a list of words\n",
    "    clean_text = clean_text.strip().split()\n",
    "\n",
    "    # Get the list of Portuguese stopwords\n",
    "    stopwords_list = set(stopwords.words('portuguese'))\n",
    "    \n",
    "    # Remove stopwords from the tokenized words\n",
    "    clean_text = [word.lower() for word in clean_text if word.lower() not in stopwords_list]\n",
    "\n",
    "    return clean_text"
   ]
  },
  {
   "cell_type": "code",
   "execution_count": 4,
   "metadata": {},
   "outputs": [],
   "source": [
    "books_df['alt_title'] = books_df['titulo'].map(remove_special_characters_and_stopwords)"
   ]
  },
  {
   "cell_type": "code",
   "execution_count": 5,
   "metadata": {},
   "outputs": [
    {
     "data": {
      "text/plain": [
       "['Administracao',\n",
       " 'Artes',\n",
       " 'Biologia',\n",
       " 'Geografia',\n",
       " 'Historia',\n",
       " 'Literatura',\n",
       " 'Matematica']"
      ]
     },
     "execution_count": 5,
     "metadata": {},
     "output_type": "execute_result"
    }
   ],
   "source": [
    "list(books_df['genero'].unique())"
   ]
  },
  {
   "cell_type": "code",
   "execution_count": 6,
   "metadata": {},
   "outputs": [
    {
     "data": {
      "text/html": [
       "<div>\n",
       "<style scoped>\n",
       "    .dataframe tbody tr th:only-of-type {\n",
       "        vertical-align: middle;\n",
       "    }\n",
       "\n",
       "    .dataframe tbody tr th {\n",
       "        vertical-align: top;\n",
       "    }\n",
       "\n",
       "    .dataframe thead th {\n",
       "        text-align: right;\n",
       "    }\n",
       "</style>\n",
       "<table border=\"1\" class=\"dataframe\">\n",
       "  <thead>\n",
       "    <tr style=\"text-align: right;\">\n",
       "      <th></th>\n",
       "      <th>genero</th>\n",
       "      <th>alt_title</th>\n",
       "      <th>count</th>\n",
       "    </tr>\n",
       "  </thead>\n",
       "  <tbody>\n",
       "    <tr>\n",
       "      <th>800</th>\n",
       "      <td>Historia</td>\n",
       "      <td>historia</td>\n",
       "      <td>154</td>\n",
       "    </tr>\n",
       "    <tr>\n",
       "      <th>801</th>\n",
       "      <td>Historia</td>\n",
       "      <td>brasil</td>\n",
       "      <td>79</td>\n",
       "    </tr>\n",
       "    <tr>\n",
       "      <th>802</th>\n",
       "      <td>Historia</td>\n",
       "      <td>geral</td>\n",
       "      <td>30</td>\n",
       "    </tr>\n",
       "    <tr>\n",
       "      <th>803</th>\n",
       "      <td>Historia</td>\n",
       "      <td>arte</td>\n",
       "      <td>22</td>\n",
       "    </tr>\n",
       "    <tr>\n",
       "      <th>804</th>\n",
       "      <td>Historia</td>\n",
       "      <td>guerra</td>\n",
       "      <td>19</td>\n",
       "    </tr>\n",
       "    <tr>\n",
       "      <th>...</th>\n",
       "      <td>...</td>\n",
       "      <td>...</td>\n",
       "      <td>...</td>\n",
       "    </tr>\n",
       "    <tr>\n",
       "      <th>895</th>\n",
       "      <td>Historia</td>\n",
       "      <td>documentos</td>\n",
       "      <td>3</td>\n",
       "    </tr>\n",
       "    <tr>\n",
       "      <th>896</th>\n",
       "      <td>Historia</td>\n",
       "      <td>indios</td>\n",
       "      <td>3</td>\n",
       "    </tr>\n",
       "    <tr>\n",
       "      <th>897</th>\n",
       "      <td>Historia</td>\n",
       "      <td>indigenas</td>\n",
       "      <td>3</td>\n",
       "    </tr>\n",
       "    <tr>\n",
       "      <th>898</th>\n",
       "      <td>Historia</td>\n",
       "      <td>leste</td>\n",
       "      <td>3</td>\n",
       "    </tr>\n",
       "    <tr>\n",
       "      <th>899</th>\n",
       "      <td>Historia</td>\n",
       "      <td>privada</td>\n",
       "      <td>3</td>\n",
       "    </tr>\n",
       "  </tbody>\n",
       "</table>\n",
       "<p>100 rows × 3 columns</p>\n",
       "</div>"
      ],
      "text/plain": [
       "       genero   alt_title  count\n",
       "800  Historia    historia    154\n",
       "801  Historia      brasil     79\n",
       "802  Historia       geral     30\n",
       "803  Historia        arte     22\n",
       "804  Historia      guerra     19\n",
       "..        ...         ...    ...\n",
       "895  Historia  documentos      3\n",
       "896  Historia      indios      3\n",
       "897  Historia   indigenas      3\n",
       "898  Historia       leste      3\n",
       "899  Historia     privada      3\n",
       "\n",
       "[100 rows x 3 columns]"
      ]
     },
     "execution_count": 6,
     "metadata": {},
     "output_type": "execute_result"
    }
   ],
   "source": [
    "# Select the 'genero' and 'alt_title' columns from the DataFrame\n",
    "# and explode the 'alt_title' column to create multiple rows for each title\n",
    "# Then we can see the most relevant words for each genero\n",
    "(\n",
    " books_df[['genero', 'alt_title']]\n",
    " .explode('alt_title')\n",
    " \n",
    " # Group the data by 'genero', reset the index, and calculate the value counts\n",
    " .groupby(by='genero', as_index=False)\n",
    " .value_counts()\n",
    " \n",
    " # Sort the values in descending order first by 'genero' and then by 'count'\n",
    " .sort_values(by=['genero', 'count'], ascending=False)\n",
    " \n",
    " # Group the sorted data by 'genero' and select the top 15 elements for each group\n",
    " .groupby('genero')\n",
    " .head(100)\n",
    "\n",
    "# Change the word inside the double quotes for selection\n",
    ").query('genero==\"Historia\"')\n"
   ]
  },
  {
   "cell_type": "markdown",
   "metadata": {},
   "source": [
    "#### 02.01. Conclusões de análises: \n",
    "\n",
    "Iremos utilizar o pacote Snorkel para data augmentation, que utiliza conceitos simples \n",
    "para fazer uma inferência heurística. Após a remoção das stop words e limpeza das palavras, \n",
    "é possível selecionar algumas palavras-chave que podem fortemente indicar um gênero.\n",
    "\n",
    "Essas análises e seleções não possuem critérios exatos. Portanto, caso você esteja vendo \n",
    "o código, é possível que você ache uma ou outra palavra mais relevante do que as selecionadas.\n",
    "\n"
   ]
  },
  {
   "cell_type": "markdown",
   "metadata": {},
   "source": [
    "| Administração | Artes   | Biologia   | Geografia  | História    | Literatura | Matemática  |\n",
    "|---------------|---------|------------|------------|-------------|------------|-------------|\n",
    "| administracao | museu   | biologia   | geografia  | historia    | literatura | matematica  |\n",
    "| organizacoes  | pintura | seres      | geografico | guerra      | texto      | fundamentos |\n",
    "| organizacao   | arte    | genetica   | sociedade  | revolucao   | portuguesa | geometria   |\n",
    "| gestao        | teatro  | vida       | regiao     | anos        | leitura    | calculo     |\n",
    "| empresa       | museum  | biologicas | territorio | civilizacao | gramatica  | analitica   |\n",
    "|               | gallery | evolucao   |            | antiga      |            | financeira  |"
   ]
  },
  {
   "cell_type": "markdown",
   "metadata": {},
   "source": [
    "--- \n",
    "## 03. Snorkel\n",
    "\n",
    "O pacote Snorkel do Python é um sistema que permite a geração rápida de dados de treinamento com supervisão fraca. Ele foi criado para automatizar o processo de criação e gerenciamento de dados de treinamento, permitindo que os usuários rotulem, construam e gerenciem dados de treinamento programaticamente."
   ]
  },
  {
   "cell_type": "code",
   "execution_count": 7,
   "metadata": {},
   "outputs": [],
   "source": [
    "LABELS = {'Historia' : 0, 'Administração' : 1, 'Geografia' : 2, \n",
    "          'Biologia' : 3, 'Matemática' : 4, 'Artes': 5, 'Literatura': 6}"
   ]
  },
  {
   "cell_type": "markdown",
   "metadata": {},
   "source": [
    "#### 03.01 Teste e treino para o modelo de Weak Supervision"
   ]
  },
  {
   "cell_type": "code",
   "execution_count": 8,
   "metadata": {},
   "outputs": [],
   "source": [
    "from sklearn.model_selection import train_test_split\n",
    "\n",
    "x_train, x_test = train_test_split(books_df, test_size=0.25, random_state=42, stratify=books_df['genero'])"
   ]
  },
  {
   "cell_type": "code",
   "execution_count": 9,
   "metadata": {},
   "outputs": [],
   "source": [
    "x_train['alt_title'] = x_train['alt_title'].map(lambda x: ' '.join(x))\n",
    "x_test['alt_title'] = x_test['alt_title'].map(lambda x: ' '.join(x))"
   ]
  },
  {
   "cell_type": "markdown",
   "metadata": {},
   "source": [
    "#### 03.02. Função de Rotulação \n",
    "\n",
    "A função labeling_function no Snorkel é usada para criar funções de rotulagem fracas que \n",
    "atribuem rótulos a instâncias de dados. Essas funções de rotulagem são frequentemente \n",
    "escritas por especialistas humanos e são baseadas em regras. Essas funções são usadas para \n",
    "gerar rótulos aproximados ou fracamente supervisionados para os dados.\n",
    "\n"
   ]
  },
  {
   "cell_type": "code",
   "execution_count": 10,
   "metadata": {},
   "outputs": [],
   "source": [
    "from snorkel.labeling import labeling_function\n",
    "\n",
    "# Define a labeling function for the \"Historia\" label\n",
    "@labeling_function()\n",
    "def lf_historia(words: str):\n",
    "    \"\"\"\n",
    "    This function takes in a list of words and returns the \"Historia\" label if any of the keywords for this label are present\n",
    "    in the input words. If none of the keywords match, it returns -1 to represent \"no label\".\n",
    "    \n",
    "    Parameters:\n",
    "    words (list): A list of strings representing the words to be checked for keywords.\n",
    "    \n",
    "    Returns:\n",
    "    int: An integer representing the \"Historia\" label, or -1 if no match is found.\n",
    "    \"\"\"\n",
    "    # Define a list of keywords for the \"Historia\" label\n",
    "    historia_keywords = [\"guerra\", \"revol\", \"anos\", \"civiliz\", \"antiga\", \n",
    "                         \"hist\", \"arqueo\", \"arquitetura\", \"cultura\", \"brasil\", \"polit\",\n",
    "                         \"socie\", \"socioe\", \"amer\", \"geral\", \"indep\", \"imperi\", \"repub\", \n",
    "                         \"reforma\", \"mediev\", \"moderna\", \"contempo\", \"europeia\",\"idade\", \n",
    "                         \"colonial\", \"nacion\", \"africa\", \"colon\", \"descobri\", \"escrav\", \n",
    "                         \"crise\", 'ociden', \"doc\", \"antig\"]    \n",
    "    # Check if any of the keywords are present in the input words\n",
    "    for word in historia_keywords:\n",
    "        if remove_special_characters_and_stopwords(word)[0] in ' '.join(words):\n",
    "            # Return the corresponding label if a match is found\n",
    "            return LABELS['Historia']\n",
    "    # Return -1 to represent \"no label\" if none of the keywords match\n",
    "    return -1 \n",
    "\n",
    "@labeling_function()\n",
    "def lf_administracao(words: str):\n",
    "    \"\"\"\n",
    "    This function takes in a list of words and returns the \"Administração\" label if any of the keywords for this label are present\n",
    "    in the input words. If none of the keywords match, it returns -1 to represent \"no label\".\n",
    "    \n",
    "    Parameters:\n",
    "    words (list): A list of strings representing the words to be checked for keywords.\n",
    "    \n",
    "    Returns:\n",
    "    int: An integer representing the \"Administração\" label, or -1 if no match is found.\n",
    "    \"\"\"\n",
    "    # Define a list of keywords for the \"Administração\" label\n",
    "    \n",
    "    administracao_keywords = [\"adm\", \"org\", \"gest\", \"empr\", \"neg\", \"econ\", \"controle\"]\n",
    "    # Check if any of the keywords are present in the input words\n",
    "    for word in administracao_keywords:\n",
    "        if remove_special_characters_and_stopwords(word)[0] in ' '.join(words):\n",
    "            # Return the corresponding label if a match is found\n",
    "            return LABELS['Administracao']\n",
    "    # Return -1 to represent \"no label\" if none of the keywords match    return -1\n",
    "    return -1\n",
    "\n",
    "# Define a labeling function for the \"Geografia\" label\n",
    "@labeling_function()\n",
    "def lf_geografia(words: str):\n",
    "    \"\"\"\n",
    "    This function takes in a list of words and returns the \"Geografia\" label if any of the keywords for this label are present\n",
    "    in the input words. If none of the keywords match, it returns -1 to represent \"no label\".\n",
    "    \n",
    "    Parameters:\n",
    "    words (list): A list of strings representing the words to be checked for keywords.\n",
    "    \n",
    "    Returns:\n",
    "    int: An integer representing the \"Geografia\" label, or -1 if no match is found.\n",
    "    \"\"\"\n",
    "    # Define a list of keywords for the \"Geografia\" label\n",
    "    geografia_keywords = [\"geo\", \"socio\", \"antropo\", \"regiao\", \"terr\", \"rural\", \"urban\", \n",
    "                          'mund', 'atlas', 'mapa', 'carto', 'clima', 'ambien', 'ecolo', 'hidro',]\n",
    "    # Check if any of the keywords are present in the input words\n",
    "    for word in geografia_keywords:\n",
    "        if remove_special_characters_and_stopwords(word)[0] in ' '.join(words):\n",
    "            # Return the corresponding label if a match is found\n",
    "            return LABELS['Geografia']\n",
    "    # Return -1 to represent \"no label\" if none of the keywords match\n",
    "    return -1\n",
    "\n",
    "\n",
    "# Define a labeling function for the \"Biologia\" label\n",
    "@labeling_function()\n",
    "def lf_biologia(words: str):\n",
    "    \"\"\"\n",
    "    This function takes in a list of words and returns the \"Biologia\" label if any of the keywords for this label are present\n",
    "    in the input words. If none of the keywords match, it returns -1 to represent \"no label\".\n",
    "    \n",
    "    Parameters:\n",
    "    words (list): A list of strings representing the words to be checked for keywords.\n",
    "    \n",
    "    Returns:\n",
    "    int: An integer representing the \"Biologia\" label, or -1 if no match is found.\n",
    "    \"\"\"\n",
    "    # Define a list of keywords for the \"Biologia\" label\n",
    "    biologia_keywords = [\"bio\", \"seres\", \"vida\", \"evol\", \"genet\", \"medic\", \"saude\", \n",
    "                         \"nutri\", \"fisio\", \"enferm\", \"farma\", \"veteri\",\"odonto\", \"psico\"]\n",
    "    # Check if any of the keywords are present in the input words\n",
    "    for word in biologia_keywords:\n",
    "        if remove_special_characters_and_stopwords(word)[0] in ' '.join(words):\n",
    "            # Return the corresponding label if a match is found\n",
    "            return LABELS['Biologia']\n",
    "    # Return -1 to represent \"no label\" if none of the keywords match\n",
    "    return -1\n",
    "\n",
    "# Define a labeling function for the \"Literatura\" label\n",
    "@labeling_function()\n",
    "def lf_literatura(words: str):\n",
    "    \"\"\"\n",
    "    This function takes in a list of words and returns the \"Literatura\" label if any of the keywords for this label are present\n",
    "    in the input words. If none of the keywords match, it returns -1 to represent \"no label\".\n",
    "    \n",
    "    Parameters:\n",
    "    words (list): A list of strings representing the words to be checked for keywords.\n",
    "    \n",
    "    Returns:\n",
    "    int: An integer representing the \"Literatura\" label, or -1 if no match is found.\n",
    "    \"\"\"\n",
    "    # Define a list of keywords for the \"Literatura\" label\n",
    "    literatura_keywords = [\"litera\", \"texto\", \"portuguesa\", \"leit\", \"grama\", \"poesia\", \"poema\"]\n",
    "    # Check if any of the keywords are present in the input words\n",
    "    for word in literatura_keywords:\n",
    "        if remove_special_characters_and_stopwords(word)[0] in ' '.join(words):\n",
    "            # Return the corresponding label if a match is found\n",
    "            return LABELS['Literatura']\n",
    "    # Return -1 to represent \"no label\" if none of the keywords match\n",
    "    return -1\n",
    "\n",
    "# Define a labeling function for the \"Artes\" label\n",
    "@labeling_function()\n",
    "def lf_artes(words: str):\n",
    "    \"\"\"\n",
    "    This function takes in a list of words and returns the \"Artes\" label if any of the keywords for this label are present\n",
    "    in the input words. If none of the keywords match, it returns -1 to represent \"no label\".\n",
    "    \n",
    "    Parameters:\n",
    "    words (list): A list of strings representing the words to be checked for keywords.\n",
    "    \n",
    "    Returns:\n",
    "    int: An integer representing the \"Artes\" label, or -1 if no match is found.\n",
    "    \"\"\"\n",
    "    # Define a list of keywords for the \"Artes\" label\n",
    "    artes_keywords = [\"museu\", \"cinema\", \"filme\", \"museum\", \"gallery\",\n",
    "                      \"art\", \"pintur\", \"escult\", \"music\", \"teatr\", \"danc\"]\n",
    "    # Check if any of the keywords are present in the input words\n",
    "    for word in artes_keywords:\n",
    "        if remove_special_characters_and_stopwords(word)[0] in ' '.join(words):\n",
    "            # Return the corresponding label if a match is found\n",
    "            return LABELS['Artes']\n",
    "    # Return -1 to represent \"no label\" if none of the keywords match\n",
    "    return -1\n",
    "\n",
    "# Define a labeling function for the \"Matemática\" label\n",
    "@labeling_function()\n",
    "def lf_matematica(words: str):\n",
    "    \"\"\"\n",
    "    This function takes in a list of words and returns the \"Matemática\" label if any of the keywords for this label are present\n",
    "    in the input words. If none of the keywords match, it returns -1 to represent \"no label\".\n",
    "    \n",
    "    Parameters:\n",
    "    words (list): A list of strings representing the words to be checked for keywords.\n",
    "    \n",
    "    Returns:\n",
    "    int: An integer representing the \"Matemática\" label, or -1 if no match is found.\n",
    "    \"\"\"\n",
    "    # Define a list of keywords for the \"Matemática\" label\n",
    "    matematica_keywords = [\"matema\", \"fundam\", \"calcu\", \"algebra\", \"geome\", \"estatis\", \n",
    "                           \"proba\", \"trigono\", \"logica\", \"fisica\", 'analit', 'aplica', \n",
    "                           \"medio\", \"grau\", 'discre', 'numeri', 'vetor', 'equa', 'difer', 'integral']\n",
    "    # Check if any of the keywords are present in the input words\n",
    "    for word in matematica_keywords:\n",
    "        if remove_special_characters_and_stopwords(word)[0] in ' '.join(words):\n",
    "            # Return the corresponding label if a match is found\n",
    "            return LABELS['Matematica']\n",
    "    # Return -1 to represent \"no label\" if none of the keywords match\n",
    "    return -1\n"
   ]
  },
  {
   "cell_type": "code",
   "execution_count": 11,
   "metadata": {},
   "outputs": [
    {
     "name": "stderr",
     "output_type": "stream",
     "text": [
      "  0%|          | 4/872 [00:00<00:22, 39.10it/s]"
     ]
    },
    {
     "name": "stderr",
     "output_type": "stream",
     "text": [
      "100%|██████████| 872/872 [00:17<00:00, 50.53it/s]\n"
     ]
    }
   ],
   "source": [
    "from snorkel.labeling import PandasLFApplier\n",
    "from snorkel.labeling.model import LabelModel\n",
    "\n",
    "# Define the missing variables\n",
    "LABELS = {'Historia': 0, 'Administracao': 1, 'Geografia': 2, 'Biologia': 3, \n",
    "          'Literatura': 4, 'Artes': 5, 'Matematica': 6}\n",
    "\n",
    "applier = PandasLFApplier(lfs=[lf_historia, lf_administracao, lf_geografia, lf_biologia, \n",
    "                               lf_literatura, lf_artes, lf_matematica])\n",
    "L_train = applier.apply(df=x_train)\n"
   ]
  },
  {
   "cell_type": "code",
   "execution_count": 12,
   "metadata": {},
   "outputs": [
    {
     "name": "stderr",
     "output_type": "stream",
     "text": [
      "INFO:root:Computing O...\n",
      "INFO:root:Estimating \\mu...\n",
      "  0%|          | 0/10 [00:00<?, ?epoch/s]INFO:root:[0 epochs]: TRAIN:[loss=0.178]\n",
      "100%|██████████| 10/10 [00:00<00:00, 512.53epoch/s]\n",
      "INFO:root:Finished Training\n"
     ]
    }
   ],
   "source": [
    "label_model = LabelModel(cardinality=7, verbose=True)\n",
    "label_model.fit(L_train=L_train, \n",
    "                n_epochs=10, \n",
    "                lr=0.01,\n",
    "                log_freq=20, \n",
    "                seed=42)\n",
    "\n",
    "x_train['label_inf'] = label_model.predict(L=L_train, tie_break_policy=\"abstain\")\n"
   ]
  },
  {
   "cell_type": "code",
   "execution_count": 13,
   "metadata": {},
   "outputs": [],
   "source": [
    "import os\n",
    "label_model_dir = '../model/label_model_books/'\n",
    "if not os.path.exists(label_model_dir):\n",
    "    os.makedirs(label_model_dir)\n"
   ]
  },
  {
   "cell_type": "code",
   "execution_count": 14,
   "metadata": {},
   "outputs": [],
   "source": [
    "# Export do Modelo\n",
    "label_model.save('../model/label_model_books.pkl')"
   ]
  },
  {
   "cell_type": "markdown",
   "metadata": {},
   "source": [
    "#### 03.03. Função de Transformação"
   ]
  },
  {
   "cell_type": "code",
   "execution_count": 21,
   "metadata": {},
   "outputs": [],
   "source": [
    "import nlpaug.augmenter.word as naw\n",
    "from snorkel.augmentation import transformation_function\n",
    "\n",
    "# Initialize augmenters\n",
    "# synonym_aug = naw.SynonymAug(lang='por', aug_min=1)\n",
    "context_aug = naw.ContextualWordEmbsAug(model_path='../model/bert/', aug_min=1)\n",
    "\n",
    "def synonym_replacer(text, model=context_aug):\n",
    "    \"\"\"\n",
    "    This function takes in a string of text and performs data augmentation using the specified augmentation technique.\n",
    "    \n",
    "    Parameters:\n",
    "    text (str): A string of text to be augmented.\n",
    "    \n",
    "    Returns:\n",
    "    str: The augmented text.\n",
    "    \"\"\"\n",
    "    # Define the augmentation technique\n",
    "    aug = model\n",
    "    \n",
    "    return aug.augment(text)[0]\n",
    "\n",
    "@transformation_function()\n",
    "def tf_synonym(df_row): \n",
    "    # Assuming that 'alt_title' is the column containing text\n",
    "    df_row['alt_title'] = synonym_replacer(df_row.alt_title)\n",
    "    return df_row\n"
   ]
  },
  {
   "cell_type": "code",
   "execution_count": 22,
   "metadata": {},
   "outputs": [
    {
     "name": "stderr",
     "output_type": "stream",
     "text": [
      "100%|██████████| 872/872 [10:01<00:00,  1.45it/s]\n"
     ]
    }
   ],
   "source": [
    "from snorkel.augmentation import ApplyOnePolicy, PandasTFApplier\n",
    "\n",
    "tf_policy = ApplyOnePolicy(n_per_original=3, keep_original=True)\n",
    "tf_applier = PandasTFApplier([tf_synonym], tf_policy)\n",
    "\n",
    "x_train_aug = tf_applier.apply(x_train)"
   ]
  },
  {
   "cell_type": "code",
   "execution_count": 23,
   "metadata": {},
   "outputs": [
    {
     "name": "stderr",
     "output_type": "stream",
     "text": [
      "100%|██████████| 3488/3488 [01:06<00:00, 52.73it/s]\n"
     ]
    }
   ],
   "source": [
    "L_train = applier.apply(df=x_train_aug.drop('label_inf', axis=1))"
   ]
  },
  {
   "cell_type": "code",
   "execution_count": 24,
   "metadata": {},
   "outputs": [
    {
     "name": "stderr",
     "output_type": "stream",
     "text": [
      "INFO:root:Computing O...\n",
      "INFO:root:Estimating \\mu...\n",
      "  0%|          | 0/100 [00:00<?, ?epoch/s]INFO:root:[0 epochs]: TRAIN:[loss=0.124]\n",
      "INFO:root:[20 epochs]: TRAIN:[loss=0.013]\n",
      "INFO:root:[40 epochs]: TRAIN:[loss=0.001]\n",
      "INFO:root:[60 epochs]: TRAIN:[loss=0.001]\n",
      " 66%|██████▌   | 66/100 [00:00<00:00, 656.61epoch/s]INFO:root:[80 epochs]: TRAIN:[loss=0.000]\n",
      "100%|██████████| 100/100 [00:00<00:00, 650.48epoch/s]\n",
      "INFO:root:Finished Training\n"
     ]
    }
   ],
   "source": [
    "\n",
    "label_model = LabelModel(cardinality=7, verbose=True)\n",
    "label_model.fit(L_train=L_train, \n",
    "                n_epochs=100, \n",
    "                lr=0.1,\n",
    "                log_freq=20, \n",
    "                seed=42)\n"
   ]
  },
  {
   "cell_type": "code",
   "execution_count": 25,
   "metadata": {},
   "outputs": [],
   "source": [
    "x_train_aug['label_inf'] = label_model.predict(L=L_train, tie_break_policy=\"abstain\")\n",
    "x_train_aug['label'] = x_train_aug['genero'].map(LABELS)"
   ]
  },
  {
   "cell_type": "code",
   "execution_count": 26,
   "metadata": {},
   "outputs": [
    {
     "data": {
      "text/html": [
       "<div>\n",
       "<style scoped>\n",
       "    .dataframe tbody tr th:only-of-type {\n",
       "        vertical-align: middle;\n",
       "    }\n",
       "\n",
       "    .dataframe tbody tr th {\n",
       "        vertical-align: top;\n",
       "    }\n",
       "\n",
       "    .dataframe thead th {\n",
       "        text-align: right;\n",
       "    }\n",
       "</style>\n",
       "<table border=\"1\" class=\"dataframe\">\n",
       "  <thead>\n",
       "    <tr style=\"text-align: right;\">\n",
       "      <th>label_inf</th>\n",
       "      <th>-1</th>\n",
       "      <th>0</th>\n",
       "      <th>1</th>\n",
       "      <th>2</th>\n",
       "      <th>3</th>\n",
       "      <th>4</th>\n",
       "      <th>5</th>\n",
       "      <th>6</th>\n",
       "      <th>All</th>\n",
       "    </tr>\n",
       "    <tr>\n",
       "      <th>label</th>\n",
       "      <th></th>\n",
       "      <th></th>\n",
       "      <th></th>\n",
       "      <th></th>\n",
       "      <th></th>\n",
       "      <th></th>\n",
       "      <th></th>\n",
       "      <th></th>\n",
       "      <th></th>\n",
       "    </tr>\n",
       "  </thead>\n",
       "  <tbody>\n",
       "    <tr>\n",
       "      <th>0</th>\n",
       "      <td>548</td>\n",
       "      <td>706</td>\n",
       "      <td>24</td>\n",
       "      <td>41</td>\n",
       "      <td>29</td>\n",
       "      <td>5</td>\n",
       "      <td>25</td>\n",
       "      <td>14</td>\n",
       "      <td>1392</td>\n",
       "    </tr>\n",
       "    <tr>\n",
       "      <th>1</th>\n",
       "      <td>166</td>\n",
       "      <td>71</td>\n",
       "      <td>191</td>\n",
       "      <td>3</td>\n",
       "      <td>11</td>\n",
       "      <td>6</td>\n",
       "      <td>10</td>\n",
       "      <td>14</td>\n",
       "      <td>472</td>\n",
       "    </tr>\n",
       "    <tr>\n",
       "      <th>2</th>\n",
       "      <td>87</td>\n",
       "      <td>155</td>\n",
       "      <td>7</td>\n",
       "      <td>136</td>\n",
       "      <td>4</td>\n",
       "      <td>1</td>\n",
       "      <td>1</td>\n",
       "      <td>5</td>\n",
       "      <td>396</td>\n",
       "    </tr>\n",
       "    <tr>\n",
       "      <th>3</th>\n",
       "      <td>153</td>\n",
       "      <td>56</td>\n",
       "      <td>10</td>\n",
       "      <td>25</td>\n",
       "      <td>150</td>\n",
       "      <td>8</td>\n",
       "      <td>1</td>\n",
       "      <td>5</td>\n",
       "      <td>408</td>\n",
       "    </tr>\n",
       "    <tr>\n",
       "      <th>4</th>\n",
       "      <td>51</td>\n",
       "      <td>64</td>\n",
       "      <td>0</td>\n",
       "      <td>0</td>\n",
       "      <td>0</td>\n",
       "      <td>40</td>\n",
       "      <td>0</td>\n",
       "      <td>5</td>\n",
       "      <td>160</td>\n",
       "    </tr>\n",
       "    <tr>\n",
       "      <th>5</th>\n",
       "      <td>131</td>\n",
       "      <td>50</td>\n",
       "      <td>0</td>\n",
       "      <td>3</td>\n",
       "      <td>0</td>\n",
       "      <td>1</td>\n",
       "      <td>74</td>\n",
       "      <td>1</td>\n",
       "      <td>260</td>\n",
       "    </tr>\n",
       "    <tr>\n",
       "      <th>6</th>\n",
       "      <td>132</td>\n",
       "      <td>16</td>\n",
       "      <td>5</td>\n",
       "      <td>43</td>\n",
       "      <td>8</td>\n",
       "      <td>4</td>\n",
       "      <td>8</td>\n",
       "      <td>184</td>\n",
       "      <td>400</td>\n",
       "    </tr>\n",
       "    <tr>\n",
       "      <th>All</th>\n",
       "      <td>1268</td>\n",
       "      <td>1118</td>\n",
       "      <td>237</td>\n",
       "      <td>251</td>\n",
       "      <td>202</td>\n",
       "      <td>65</td>\n",
       "      <td>119</td>\n",
       "      <td>228</td>\n",
       "      <td>3488</td>\n",
       "    </tr>\n",
       "  </tbody>\n",
       "</table>\n",
       "</div>"
      ],
      "text/plain": [
       "label_inf    -1     0    1    2    3   4    5    6   All\n",
       "label                                                   \n",
       "0           548   706   24   41   29   5   25   14  1392\n",
       "1           166    71  191    3   11   6   10   14   472\n",
       "2            87   155    7  136    4   1    1    5   396\n",
       "3           153    56   10   25  150   8    1    5   408\n",
       "4            51    64    0    0    0  40    0    5   160\n",
       "5           131    50    0    3    0   1   74    1   260\n",
       "6           132    16    5   43    8   4    8  184   400\n",
       "All        1268  1118  237  251  202  65  119  228  3488"
      ]
     },
     "execution_count": 26,
     "metadata": {},
     "output_type": "execute_result"
    }
   ],
   "source": [
    "pd.crosstab(x_train_aug['label'], x_train_aug['label_inf'], margins=True)"
   ]
  },
  {
   "cell_type": "code",
   "execution_count": 27,
   "metadata": {},
   "outputs": [
    {
     "name": "stderr",
     "output_type": "stream",
     "text": [
      "100%|██████████| 3488/3488 [00:00<00:00, 25134.02it/s]\n"
     ]
    }
   ],
   "source": [
    "from snorkel.slicing import slicing_function, PandasSFApplier \n",
    "\n",
    "@slicing_function()\n",
    "def sf_historia(x):\n",
    "    return 1 if \"histori\" in x.alt_title.lower() else 0\n",
    "\n",
    "@slicing_function()\n",
    "def sf_administracao(x):\n",
    "    return 1 if \"administra\" in x.alt_title.lower() else 0\n",
    "\n",
    "@slicing_function()\n",
    "def sf_geografia(x):\n",
    "    return 1 if \"geogra\" in x.alt_title.lower() else 0\n",
    "\n",
    "@slicing_function()\n",
    "def sf_biologia(x):\n",
    "    return 1 if \"biolo\" in x.alt_title.lower() else 0\n",
    "\n",
    "@slicing_function()\n",
    "def sf_literatura(x):\n",
    "    return 1 if \"litera\" in x.alt_title.lower() else 0\n",
    "\n",
    "@slicing_function()\n",
    "def sf_artes(x):\n",
    "    return 1 if \"arte\" in x.alt_title.lower() else 0\n",
    "\n",
    "@slicing_function()\n",
    "def sf_matematica(x):\n",
    "    return 1 if \"matem\" in x.alt_title.lower() else 0\n",
    "\n",
    "\n",
    "sf_applier = PandasSFApplier([sf_historia, sf_administracao, sf_geografia, \n",
    "                              sf_biologia, sf_literatura, sf_artes, sf_matematica])\n",
    "slice_labels = sf_applier.apply(x_train_aug)\n",
    "\n",
    "# slice_labels = pd.DataFrame(slice_labels)"
   ]
  },
  {
   "cell_type": "code",
   "execution_count": 28,
   "metadata": {},
   "outputs": [],
   "source": [
    "x_train_final = pd.concat([x_train_aug.reset_index(drop=True), \n",
    "                           pd.DataFrame(slice_labels)]\n",
    "                           , axis=1)"
   ]
  },
  {
   "cell_type": "markdown",
   "metadata": {},
   "source": [
    "#### Export das bases"
   ]
  },
  {
   "cell_type": "code",
   "execution_count": 29,
   "metadata": {},
   "outputs": [],
   "source": [
    "x_train['label'] = x_train['genero'].map(LABELS)\n",
    "x_train_aug['label'] = x_train_aug['genero'].map(LABELS)\n",
    "x_test['label'] = x_test['genero'].map(LABELS)"
   ]
  },
  {
   "cell_type": "code",
   "execution_count": 30,
   "metadata": {},
   "outputs": [],
   "source": [
    "x_train.drop(['titulo', 'genero'], axis=1, inplace=True)\n",
    "x_train_aug.drop(['titulo', 'genero'], axis=1, inplace=True)\n",
    "x_train_final.drop(['titulo', 'genero'], axis=1, inplace=True)\n",
    "x_test.drop(['titulo', 'genero'], axis=1, inplace=True)"
   ]
  },
  {
   "cell_type": "code",
   "execution_count": 31,
   "metadata": {},
   "outputs": [],
   "source": [
    "x_train.to_csv('../data/processed/train_og.csv', index=False)\n",
    "x_train_aug.to_csv('../data/processed/train_aug.csv', index=False)\n",
    "x_train_final.to_csv('../data/processed/train_final.csv', index=False)\n",
    "x_test.to_csv('../data/processed/test.csv', index=False)"
   ]
  }
 ],
 "metadata": {
  "kernelspec": {
   "display_name": "Python 3",
   "language": "python",
   "name": "python3"
  },
  "language_info": {
   "codemirror_mode": {
    "name": "ipython",
    "version": 3
   },
   "file_extension": ".py",
   "mimetype": "text/x-python",
   "name": "python",
   "nbconvert_exporter": "python",
   "pygments_lexer": "ipython3",
   "version": "3.11.4"
  }
 },
 "nbformat": 4,
 "nbformat_minor": 4
}
