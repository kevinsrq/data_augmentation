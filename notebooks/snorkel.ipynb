{
 "cells": [
  {
   "cell_type": "markdown",
   "metadata": {},
   "source": [
    "# Utilização do Snorkel \n",
    "--- \n",
    "### 01. Import da base"
   ]
  },
  {
   "cell_type": "code",
   "execution_count": 1,
   "metadata": {},
   "outputs": [],
   "source": [
    "import pandas as pd \n",
    "import numpy as np "
   ]
  },
  {
   "cell_type": "code",
   "execution_count": 2,
   "metadata": {},
   "outputs": [
    {
     "data": {
      "text/html": [
       "<div>\n",
       "<style scoped>\n",
       "    .dataframe tbody tr th:only-of-type {\n",
       "        vertical-align: middle;\n",
       "    }\n",
       "\n",
       "    .dataframe tbody tr th {\n",
       "        vertical-align: top;\n",
       "    }\n",
       "\n",
       "    .dataframe thead th {\n",
       "        text-align: right;\n",
       "    }\n",
       "</style>\n",
       "<table border=\"1\" class=\"dataframe\">\n",
       "  <thead>\n",
       "    <tr style=\"text-align: right;\">\n",
       "      <th></th>\n",
       "      <th>titulo</th>\n",
       "      <th>genero</th>\n",
       "    </tr>\n",
       "  </thead>\n",
       "  <tbody>\n",
       "    <tr>\n",
       "      <th>0</th>\n",
       "      <td>Iniciação ao Estudo da Administração</td>\n",
       "      <td>Administracao</td>\n",
       "    </tr>\n",
       "    <tr>\n",
       "      <th>1</th>\n",
       "      <td>Iniciação a Administração geral</td>\n",
       "      <td>Administracao</td>\n",
       "    </tr>\n",
       "    <tr>\n",
       "      <th>2</th>\n",
       "      <td>Iniciação a Administração de pessoal</td>\n",
       "      <td>Administracao</td>\n",
       "    </tr>\n",
       "    <tr>\n",
       "      <th>3</th>\n",
       "      <td>Administração de Materiais</td>\n",
       "      <td>Administracao</td>\n",
       "    </tr>\n",
       "    <tr>\n",
       "      <th>4</th>\n",
       "      <td>Gestão Ambiental na Empresa</td>\n",
       "      <td>Administracao</td>\n",
       "    </tr>\n",
       "  </tbody>\n",
       "</table>\n",
       "</div>"
      ],
      "text/plain": [
       "                                 titulo         genero\n",
       "0  Iniciação ao Estudo da Administração  Administracao\n",
       "1       Iniciação a Administração geral  Administracao\n",
       "2  Iniciação a Administração de pessoal  Administracao\n",
       "3            Administração de Materiais  Administracao\n",
       "4           Gestão Ambiental na Empresa  Administracao"
      ]
     },
     "execution_count": 2,
     "metadata": {},
     "output_type": "execute_result"
    }
   ],
   "source": [
    "books_df = pd.read_csv('../data/livros.csv')\n",
    "books_df.columns = books_df.columns.map(str.lower)\n",
    "books_df.head(5)"
   ]
  },
  {
   "cell_type": "markdown",
   "metadata": {},
   "source": [
    "--- \n",
    "\n",
    "### 02. Análise da Base \n",
    "\n",
    "\"Uma maneira de compreender o conteúdo de um texto é realizar uma análise das palavras mais essenciais, ou seja, aquelas que ocorrem com maior frequência e possuem maior significado para o tema abordado. \n",
    "\n",
    "Devido à natureza da base de dados, os títulos geralmente consistem em poucas palavras e têm uma quantidade limitada de exemplos, o que possibilita uma análise mais subjetiva para identificar quais palavras podem ser relevantes na classificação do tópico principal.\""
   ]
  },
  {
   "cell_type": "code",
   "execution_count": 3,
   "metadata": {},
   "outputs": [
    {
     "name": "stderr",
     "output_type": "stream",
     "text": [
      "[nltk_data] Downloading package stopwords to\n",
      "[nltk_data]     C:\\Users\\kevin\\AppData\\Roaming\\nltk_data...\n",
      "[nltk_data]   Package stopwords is already up-to-date!\n"
     ]
    }
   ],
   "source": [
    "import re\n",
    "from unidecode import unidecode \n",
    "import nltk\n",
    "from nltk.corpus import stopwords\n",
    "import spacy\n",
    "\n",
    "# Download Portuguese stopwords from the NLTK library\n",
    "nltk.download('stopwords')\n",
    "\n",
    "def remove_special_characters_and_stopwords(text):\n",
    "    \"\"\"\n",
    "    Removes special characters (except Latin usual characters),\n",
    "    tokenizes the text, and removes Portuguese stopwords.\n",
    "    \n",
    "    Args:\n",
    "        text (str): The input text to process.\n",
    "        \n",
    "    Returns:\n",
    "        list of str: A list of cleaned and tokenized words without stopwords.\n",
    "    \"\"\"\n",
    "    # Remove special characters (except Latin usual characters)\n",
    "    clean_text = re.sub(r'[^\\w\\s]', ' ', text)\n",
    "    \n",
    "    # Remove accents and diacritics from the text (e.g., converting é to e)\n",
    "    clean_text = unidecode(clean_text)\n",
    "    \n",
    "    # Tokenize the cleaned text into a list of words\n",
    "    clean_text = clean_text.strip().split()\n",
    "\n",
    "    # Get the list of Portuguese stopwords\n",
    "    stopwords_list = set(stopwords.words('portuguese'))\n",
    "    \n",
    "    # Remove stopwords from the tokenized words\n",
    "    clean_text = [word.lower() for word in clean_text if word.lower() not in stopwords_list]\n",
    "\n",
    "    return clean_text"
   ]
  },
  {
   "cell_type": "code",
   "execution_count": 4,
   "metadata": {},
   "outputs": [],
   "source": [
    "books_df['alt_title'] = books_df['titulo'].map(remove_special_characters_and_stopwords)"
   ]
  },
  {
   "cell_type": "code",
   "execution_count": 5,
   "metadata": {},
   "outputs": [
    {
     "data": {
      "text/plain": [
       "['Administracao',\n",
       " 'Artes',\n",
       " 'Biologia',\n",
       " 'Geografia',\n",
       " 'Historia',\n",
       " 'Literatura',\n",
       " 'Matematica']"
      ]
     },
     "execution_count": 5,
     "metadata": {},
     "output_type": "execute_result"
    }
   ],
   "source": [
    "list(books_df['genero'].unique())"
   ]
  },
  {
   "cell_type": "code",
   "execution_count": 37,
   "metadata": {},
   "outputs": [
    {
     "data": {
      "text/html": [
       "<div>\n",
       "<style scoped>\n",
       "    .dataframe tbody tr th:only-of-type {\n",
       "        vertical-align: middle;\n",
       "    }\n",
       "\n",
       "    .dataframe tbody tr th {\n",
       "        vertical-align: top;\n",
       "    }\n",
       "\n",
       "    .dataframe thead th {\n",
       "        text-align: right;\n",
       "    }\n",
       "</style>\n",
       "<table border=\"1\" class=\"dataframe\">\n",
       "  <thead>\n",
       "    <tr style=\"text-align: right;\">\n",
       "      <th></th>\n",
       "      <th>genero</th>\n",
       "      <th>alt_title</th>\n",
       "      <th>count</th>\n",
       "    </tr>\n",
       "  </thead>\n",
       "  <tbody>\n",
       "    <tr>\n",
       "      <th>1673</th>\n",
       "      <td>Matematica</td>\n",
       "      <td>matematica</td>\n",
       "      <td>89</td>\n",
       "    </tr>\n",
       "    <tr>\n",
       "      <th>1674</th>\n",
       "      <td>Matematica</td>\n",
       "      <td>fundamentos</td>\n",
       "      <td>16</td>\n",
       "    </tr>\n",
       "    <tr>\n",
       "      <th>1675</th>\n",
       "      <td>Matematica</td>\n",
       "      <td>geometria</td>\n",
       "      <td>12</td>\n",
       "    </tr>\n",
       "    <tr>\n",
       "      <th>1676</th>\n",
       "      <td>Matematica</td>\n",
       "      <td>elementar</td>\n",
       "      <td>12</td>\n",
       "    </tr>\n",
       "    <tr>\n",
       "      <th>1677</th>\n",
       "      <td>Matematica</td>\n",
       "      <td>calculo</td>\n",
       "      <td>11</td>\n",
       "    </tr>\n",
       "    <tr>\n",
       "      <th>1678</th>\n",
       "      <td>Matematica</td>\n",
       "      <td>aplicacoes</td>\n",
       "      <td>11</td>\n",
       "    </tr>\n",
       "    <tr>\n",
       "      <th>1679</th>\n",
       "      <td>Matematica</td>\n",
       "      <td>grau</td>\n",
       "      <td>8</td>\n",
       "    </tr>\n",
       "    <tr>\n",
       "      <th>1680</th>\n",
       "      <td>Matematica</td>\n",
       "      <td>analitica</td>\n",
       "      <td>8</td>\n",
       "    </tr>\n",
       "    <tr>\n",
       "      <th>1681</th>\n",
       "      <td>Matematica</td>\n",
       "      <td>2o</td>\n",
       "      <td>7</td>\n",
       "    </tr>\n",
       "    <tr>\n",
       "      <th>1682</th>\n",
       "      <td>Matematica</td>\n",
       "      <td>medio</td>\n",
       "      <td>6</td>\n",
       "    </tr>\n",
       "    <tr>\n",
       "      <th>1683</th>\n",
       "      <td>Matematica</td>\n",
       "      <td>2</td>\n",
       "      <td>6</td>\n",
       "    </tr>\n",
       "    <tr>\n",
       "      <th>1684</th>\n",
       "      <td>Matematica</td>\n",
       "      <td>contexto</td>\n",
       "      <td>6</td>\n",
       "    </tr>\n",
       "    <tr>\n",
       "      <th>1685</th>\n",
       "      <td>Matematica</td>\n",
       "      <td>ensino</td>\n",
       "      <td>6</td>\n",
       "    </tr>\n",
       "    <tr>\n",
       "      <th>1686</th>\n",
       "      <td>Matematica</td>\n",
       "      <td>financeira</td>\n",
       "      <td>6</td>\n",
       "    </tr>\n",
       "    <tr>\n",
       "      <th>1687</th>\n",
       "      <td>Matematica</td>\n",
       "      <td>curso</td>\n",
       "      <td>6</td>\n",
       "    </tr>\n",
       "  </tbody>\n",
       "</table>\n",
       "</div>"
      ],
      "text/plain": [
       "          genero    alt_title  count\n",
       "1673  Matematica   matematica     89\n",
       "1674  Matematica  fundamentos     16\n",
       "1675  Matematica    geometria     12\n",
       "1676  Matematica    elementar     12\n",
       "1677  Matematica      calculo     11\n",
       "1678  Matematica   aplicacoes     11\n",
       "1679  Matematica         grau      8\n",
       "1680  Matematica    analitica      8\n",
       "1681  Matematica           2o      7\n",
       "1682  Matematica        medio      6\n",
       "1683  Matematica            2      6\n",
       "1684  Matematica     contexto      6\n",
       "1685  Matematica       ensino      6\n",
       "1686  Matematica   financeira      6\n",
       "1687  Matematica        curso      6"
      ]
     },
     "execution_count": 37,
     "metadata": {},
     "output_type": "execute_result"
    }
   ],
   "source": [
    "# Select the 'genero' and 'alt_title' columns from the DataFrame\n",
    "# and explode the 'alt_title' column to create multiple rows for each title\n",
    "# Then we can see the most relevant words for each genero\n",
    "(\n",
    " books_df[['genero', 'alt_title']]\n",
    " .explode('alt_title')\n",
    " \n",
    " # Group the data by 'genero', reset the index, and calculate the value counts\n",
    " .groupby(by='genero', as_index=False)\n",
    " .value_counts()\n",
    " \n",
    " # Sort the values in descending order first by 'genero' and then by 'count'\n",
    " .sort_values(by=['genero', 'count'], ascending=False)\n",
    " \n",
    " # Group the sorted data by 'genero' and select the top 15 elements for each group\n",
    " .groupby('genero')\n",
    " .head(15)\n",
    "\n",
    "# Change the word inside the double quotes for selection\n",
    ").query('genero==\"Matematica\"')\n"
   ]
  },
  {
   "cell_type": "markdown",
   "metadata": {},
   "source": [
    "#### 02.01. Conclusões de análises: \n",
    "\n",
    "Iremos utilizar o pacote Snorkel para data augmentation, que utiliza conceitos simples \n",
    "para fazer uma inferência heurística. Após a remoção das stop words e limpeza das palavras, \n",
    "é possível selecionar algumas palavras-chave que podem fortemente indicar um gênero.\n",
    "\n",
    "Essas análises e seleções não possuem critérios exatos. Portanto, caso você esteja vendo \n",
    "o código, é possível que você ache uma ou outra palavra mais relevante do que as selecionadas.\n",
    "\n"
   ]
  },
  {
   "cell_type": "markdown",
   "metadata": {},
   "source": [
    "| Administração | Artes   | Biologia   | Geografia  | História    | Literatura | Matemática  |\n",
    "|---------------|---------|------------|------------|-------------|------------|-------------|\n",
    "| administracao | museu   | biologia   | geografia  | historia    | literatura | matematica  |\n",
    "| organizacoes  | pintura | seres      | geografico | guerra      | texto      | fundamentos |\n",
    "| organizacao   | arte    | genetica   | sociedade  | revolucao   | portuguesa | geometria   |\n",
    "| gestao        | teatro  | vida       | regiao     | anos        | leitura    | calculo     |\n",
    "| empresa       | museum  | biologicas | territorio | civilizacao | gramatica  | analitica   |\n",
    "|               | gallery | evolucao   |            | antiga      |            | financeira  |"
   ]
  },
  {
   "cell_type": "markdown",
   "metadata": {},
   "source": [
    "--- \n",
    "## 03. Snorkel\n",
    "\n",
    "O pacote Snorkel do Python é um sistema que permite a geração rápida de dados de treinamento com supervisão fraca. Ele foi criado para automatizar o processo de criação e gerenciamento de dados de treinamento, permitindo que os usuários rotulem, construam e gerenciem dados de treinamento programaticamente."
   ]
  },
  {
   "cell_type": "raw",
   "metadata": {},
   "source": [
    "sinonimos_historia = [\"Passado\", \"Cronologia\", \"Memória\", \"Relato\", \"Narrativa\", \n",
    "                      \"Antiguidade\", \"Civilização\", \"Evolução\", \"Eventos históricos\",\n",
    "                      \"Patrimônio\", \"Arqueologia\", \"Estudos culturais\"]\n",
    "\n",
    "sinonimos_administracao = [\"Gestão\", \"Gerenciamento\", \"Direção\", \"Organização\", \"Supervisão\", \n",
    "                           \"Coordenação\", \"Controle\", \"Planejamento\", \"Liderança\", \n",
    "                           \"Negócios\", \"Economia empresarial\", \"Empreendedorismo\"]\n",
    "\n",
    "sinonimos_geografia = [\"Topografia\", \"Climatologia\", \"Cartografia\", \"Estudo da Terra\", \n",
    "                       \"Localização\", \"Meio ambiente\", \"Regiões\", \"Geopolítica\", \n",
    "                       \"Cultura geográfica\", \"Sistemas de informação geográfica\"]\n",
    "\n",
    "sinonimos_biologia = [\"Ciência da Vida\", \"Genética\", \"Ecologia\", \"Anatomia\", \n",
    "                      \"Fisiologia\", \"Evolução\", \"Microbiologia\", \"Zoologia\", \"Botânica\", \n",
    "                      \"Biologia molecular\", \"Ecossistemas\", \"Biodiversidade\"]\n",
    "\n",
    "sinonimos_matematica = [\"Aritmética\", \"Álgebra\", \"Geometria\", \"Cálculo\", \"Estatística\",\n",
    "                        \"Teoria dos Números\", \"Matemática Aplicada\", \"Lógica Matemática\",\n",
    "                        \"Probabilidade\", \"Geometria Analítica\", \"Álgebra Linear\",\n",
    "                        \"Matemática Discreta\"]\n",
    "\n",
    "sinonimos_artes = [\"Expressão artística\", \"Cultura visual\", \"Criatividade\", \"Artes plásticas\",\n",
    "                   \"Música\", \"Dança\", \"Teatro\", \"Pintura\", \"Escultura\", \"Arquitetura\",\n",
    "                   \"Artes visuais\", \"Artes cênicas\"]\n",
    "\n",
    "sinonimos_literatura = [\"Escrita criativa\", \"Ficção\", \"Poesia\", \"Prosa\", \"Narrativa\",\n",
    "                        \"Autores clássicos\", \"Leitura crítica\", \"Gêneros literários\",\n",
    "                        \"Interpretação literária\", \"Literatura mundial\", \"Literatura contemporânea\"]\n"
   ]
  },
  {
   "cell_type": "code",
   "execution_count": null,
   "metadata": {},
   "outputs": [],
   "source": []
  }
 ],
 "metadata": {
  "kernelspec": {
   "display_name": "Python 3",
   "language": "python",
   "name": "python3"
  },
  "language_info": {
   "codemirror_mode": {
    "name": "ipython",
    "version": 3
   },
   "file_extension": ".py",
   "mimetype": "text/x-python",
   "name": "python",
   "nbconvert_exporter": "python",
   "pygments_lexer": "ipython3",
   "version": "3.11.4"
  }
 },
 "nbformat": 4,
 "nbformat_minor": 4
}
