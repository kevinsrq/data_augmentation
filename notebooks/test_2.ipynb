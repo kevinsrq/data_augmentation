{
 "cells": [
  {
   "cell_type": "code",
   "execution_count": 1,
   "metadata": {},
   "outputs": [],
   "source": [
    "import pandas as pd\n",
    "import numpy as np\n",
    "import torch"
   ]
  },
  {
   "cell_type": "code",
   "execution_count": 2,
   "metadata": {},
   "outputs": [],
   "source": [
    "x_train_og = pd.read_csv('../data/processed/train_og.csv')\n",
    "\n",
    "LABELS = {'Historia': 0, 'Administracao': 1, 'Geografia': 2, 'Biologia': 3, \n",
    "          'Literatura': 4, 'Artes': 5, 'Matematica': 6}\n"
   ]
  },
  {
   "cell_type": "code",
   "execution_count": 3,
   "metadata": {},
   "outputs": [],
   "source": [
    "x_test = pd.read_csv('../data/processed/test.csv')"
   ]
  },
  {
   "cell_type": "code",
   "execution_count": 4,
   "metadata": {},
   "outputs": [],
   "source": [
    "from torchtext.vocab import build_vocab_from_iterator\n",
    "\n",
    "from transformers import AutoTokenizer, AutoModelForPreTraining\n",
    "\n",
    "emb_model = AutoModelForPreTraining.from_pretrained('neuralmind/bert-base-portuguese-cased')\n",
    "tokenizer = AutoTokenizer.from_pretrained('neuralmind/bert-base-portuguese-cased')\n",
    "\n",
    "def yield_tokens(data_iter):\n",
    "    for i in data_iter: \n",
    "        yield tuple(tokenizer.tokenize(i))\n",
    "\n",
    "vocab = build_vocab_from_iterator(yield_tokens(list(x_train_og['alt_title'])), specials=[\"[UNK]\"])\n",
    "vocab.set_default_index(vocab[\"[UNK]\"])\n",
    "\n",
    "def get_embeddings(word): \n",
    "    tokens = tokenizer.tokenize(word)\n",
    "    tokens_id = tokenizer.convert_tokens_to_ids(tokens)\n",
    "    input_embeddings = emb_model.get_input_embeddings()\n",
    "    return torch.tensor(tokens_id)\n",
    "    # return input_embeddings(torch.tensor(tokens_id))\n",
    "\n",
    "\n",
    "text_pipeline = lambda word: get_embeddings(word)\n",
    "label_pipeline = lambda idx: int(idx)\n"
   ]
  },
  {
   "cell_type": "code",
   "execution_count": 5,
   "metadata": {},
   "outputs": [],
   "source": [
    "# Get the input embeddings\n",
    "input_embeddings = emb_model.get_input_embeddings()\n",
    "\n",
    "# You can access the embedding matrix and other properties\n",
    "embedding_matrix = input_embeddings.weight\n",
    "embedding_dim = embedding_matrix.size(1)  # Dimension of the word embeddings\n",
    "vocab_size = embedding_matrix.size(0) "
   ]
  },
  {
   "cell_type": "code",
   "execution_count": 6,
   "metadata": {},
   "outputs": [],
   "source": [
    "def pad(l, content, width):\n",
    "    l.extend([content] * (width - len(l)))\n",
    "    return l"
   ]
  },
  {
   "cell_type": "code",
   "execution_count": 7,
   "metadata": {},
   "outputs": [],
   "source": [
    "import torch\n",
    "import pandas as pd\n",
    "\n",
    "# Load the CSV file\n",
    "\n",
    "# Create a Dataset object\n",
    "class MyDataset(torch.utils.data.Dataset):\n",
    "    \n",
    "    def __init__(self, data_path, get_embeddings=True):\n",
    "\n",
    "        data = pd.read_csv(data_path)\n",
    "\n",
    "        if get_embeddings:\n",
    "            # self.alt_title = [text_pipeline(x).to(torch.long) for x in data.alt_title]\n",
    "            self.alt_title = torch.tensor([pad(text_pipeline(x).tolist(), 0, 18) for x in data['alt_title'].tolist()])\n",
    "        else: \n",
    "            self.alt_title = data['alt_title'].tolist()\n",
    "        # self.label = torch.tensor(data['label'].tolist(), dtype=torch.long)\n",
    "        self.label = torch.tensor([x for x in data['label']])\n",
    "\n",
    "    def __len__(self):\n",
    "        return len(self.alt_title)\n",
    "\n",
    "    def __getitem__(self, idx):\n",
    "        return self.alt_title[idx], self.label[idx]\n",
    "\n",
    "# Create the Dataset object\n",
    "dataset = MyDataset('../data/processed/train_aug.csv')\n"
   ]
  },
  {
   "cell_type": "code",
   "execution_count": 9,
   "metadata": {},
   "outputs": [],
   "source": [
    "BATH_SIZE = 32\n",
    "\n",
    "def collate_fn(batch):\n",
    "    \"\"\"\n",
    "    Collate function that pads all tensors to the same size.\n",
    "\n",
    "    Args:\n",
    "        batch: A list of tuples, where each tuple contains a text embedding tensor and a label tensor.\n",
    "\n",
    "    Returns:\n",
    "        A tuple of two tensors, where the first tensor is a padded text embedding tensor and the second tensor is a label tensor.\n",
    "    \"\"\"\n",
    "\n",
    "    # Get the maximum length of the text embeddings in the batch.\n",
    "    max_length = max([len(x[0]) for x in batch])\n",
    "\n",
    "    # Pad all of the text embeddings to the same length.\n",
    "    padded_text_embeddings = []\n",
    "    for x in batch:\n",
    "        padded_text_embeddings.append(torch.nn.functional.pad(x[0], (0, max_length - len(x[0]))))\n",
    "\n",
    "    # Get the labels from the batch.\n",
    "    labels = [x[1] for x in batch]\n",
    "\n",
    "    # Return the padded text embeddings and the labels.\n",
    "    return padded_text_embeddings, labels\n",
    "\n",
    "# Create a DataLoader object\n",
    "dataloader = torch.utils.data.DataLoader(dataset, batch_size=BATH_SIZE, shuffle=False, ) # collate_fn=collate_fn"
   ]
  },
  {
   "cell_type": "code",
   "execution_count": 10,
   "metadata": {},
   "outputs": [],
   "source": [
    "import torch\n",
    "import torch.nn as nn\n",
    "\n",
    "class GRUModel(nn.Module):\n",
    "    def __init__(self, vocab_size, embedding_dim, hidden_dim, num_classes, num_layers=10):\n",
    "        super(GRUModel, self).__init__()\n",
    "\n",
    "        # Embedding layer\n",
    "        # self.embedding = nn.Embedding(vocab_size, embedding_dim)\n",
    "        self.embedding = nn.Embedding.from_pretrained(emb_model.get_input_embeddings().weight, freeze=True)\n",
    "\n",
    "        # GRU layer\n",
    "        # self.gru = nn.GRU(embedding_dim, hidden_dim)\n",
    "        self.gru = nn.GRU(emb_model.get_input_embeddings().weight.size(1), hidden_dim, num_layers)\n",
    "\n",
    "        # Fully connected layer\n",
    "        # self.fc = nn.Linear(hidden_dim, num_classes)\n",
    "        self.fc = nn.Linear(hidden_dim, num_classes)\n",
    "\n",
    "    def forward(self, x):\n",
    "        # Embed the input text\n",
    "        x = self.embedding(x)\n",
    "\n",
    "        # Pass the embedded input to the GRU layer\n",
    "        x, _ = self.gru(x)\n",
    "\n",
    "        # Take the last hidden state vector and pass it to the fully connected layer\n",
    "        x = self.fc(x[:, -1])\n",
    "\n",
    "        return x"
   ]
  },
  {
   "cell_type": "code",
   "execution_count": 11,
   "metadata": {},
   "outputs": [],
   "source": [
    "# Access the alt_title data and convert it into a list\n",
    "alt_title_list = [item[0] for item in dataset]\n",
    "\n",
    "# Find the unique values in the alt_title data\n",
    "unique_alt_titles = list(set(alt_title_list))\n",
    "\n",
    "# Get the number of unique titles\n",
    "num_unique_titles = len(unique_alt_titles)"
   ]
  },
  {
   "cell_type": "code",
   "execution_count": 12,
   "metadata": {},
   "outputs": [
    {
     "data": {
      "text/plain": [
       "3488"
      ]
     },
     "execution_count": 12,
     "metadata": {},
     "output_type": "execute_result"
    }
   ],
   "source": [
    "num_unique_titles"
   ]
  },
  {
   "cell_type": "code",
   "execution_count": 14,
   "metadata": {},
   "outputs": [],
   "source": [
    "\n",
    "# Create the model\n",
    "model = GRUModel(num_unique_titles, 128, 128, 7)\n",
    "\n",
    "# Define the loss function and optimizer\n",
    "criterion = nn.CrossEntropyLoss()\n",
    "optimizer = torch.optim.Adam(model.parameters())\n",
    "\n",
    "# Train the model\n",
    "for epoch in range(10):\n",
    "    for text, label in dataloader:\n",
    "        # Forward pass\n",
    "        outputs = model(text)\n",
    "        # _, predicted_classes = torch.max(outputs, 1)\n",
    "        # print(predicted_classes)\n",
    "        # Calculate the loss\n",
    "        loss = criterion(outputs, label)\n",
    "\n",
    "        # Backward pass and update the model parameters\n",
    "        optimizer.zero_grad()\n",
    "        loss.backward()\n",
    "        optimizer.step()\n",
    "\n",
    "# Evaluate the model\n",
    "correct = 0\n",
    "total = 0\n",
    "with torch.no_grad():\n",
    "    for batch in dataloader:\n",
    "        outputs = model(text)\n",
    "        _, predicted = torch.max(outputs.data, 1)\n",
    "        total += label.size(0)\n",
    "        correct += (predicted == label).sum().item()\n",
    "\n",
    "accuracy = 100 * correct / total\n",
    "print('Accuracy:', accuracy)\n"
   ]
  }
 ],
 "metadata": {
  "kernelspec": {
   "display_name": "Python 3",
   "language": "python",
   "name": "python3"
  },
  "language_info": {
   "codemirror_mode": {
    "name": "ipython",
    "version": 3
   },
   "file_extension": ".py",
   "mimetype": "text/x-python",
   "name": "python",
   "nbconvert_exporter": "python",
   "pygments_lexer": "ipython3",
   "version": "3.11.4"
  }
 },
 "nbformat": 4,
 "nbformat_minor": 2
}
