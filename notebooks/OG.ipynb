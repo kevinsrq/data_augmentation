{
 "cells": [
  {
   "cell_type": "code",
   "execution_count": 1,
   "metadata": {},
   "outputs": [],
   "source": [
    "import pandas as pd\n",
    "import numpy as np\n",
    "from sklearn import metrics\n",
    "from sklearn.model_selection import train_test_split\n",
    "import torch\n",
    "import torchtext\n",
    "from torch import nn\n",
    "from torch.utils.data import Dataset, DataLoader\n",
    "import torch.nn.functional as F\n",
    "from imblearn.over_sampling import SMOTE\n",
    "import random\n",
    "import time"
   ]
  },
  {
   "cell_type": "code",
   "execution_count": 2,
   "metadata": {},
   "outputs": [],
   "source": [
    "## General Settings"
   ]
  },
  {
   "cell_type": "code",
   "execution_count": 3,
   "metadata": {},
   "outputs": [],
   "source": [
    "RANDOM_SEED = 123\n",
    "torch.manual_seed(RANDOM_SEED)\n",
    "\n",
    "LEARNING_RATE = 0.005\n",
    "BATCH_SIZE = 100\n",
    "NUM_EPOCHS = 15\n",
    "DEVICE = torch.device('cuda:1' if torch.cuda.is_available() else 'cpu')\n",
    "\n",
    "EMBEDDING_DIM = 100\n",
    "HIDDEN_DIM = 256\n",
    "NUM_CLASSES = 7"
   ]
  },
  {
   "cell_type": "code",
   "execution_count": 4,
   "metadata": {},
   "outputs": [
    {
     "data": {
      "text/html": [
       "<div>\n",
       "<style scoped>\n",
       "    .dataframe tbody tr th:only-of-type {\n",
       "        vertical-align: middle;\n",
       "    }\n",
       "\n",
       "    .dataframe tbody tr th {\n",
       "        vertical-align: top;\n",
       "    }\n",
       "\n",
       "    .dataframe thead th {\n",
       "        text-align: right;\n",
       "    }\n",
       "</style>\n",
       "<table border=\"1\" class=\"dataframe\">\n",
       "  <thead>\n",
       "    <tr style=\"text-align: right;\">\n",
       "      <th></th>\n",
       "      <th>Titulo</th>\n",
       "      <th>Genero</th>\n",
       "    </tr>\n",
       "  </thead>\n",
       "  <tbody>\n",
       "    <tr>\n",
       "      <th>0</th>\n",
       "      <td>Iniciação ao Estudo da Administração</td>\n",
       "      <td>Administracao</td>\n",
       "    </tr>\n",
       "    <tr>\n",
       "      <th>1</th>\n",
       "      <td>Iniciação a Administração geral</td>\n",
       "      <td>Administracao</td>\n",
       "    </tr>\n",
       "    <tr>\n",
       "      <th>2</th>\n",
       "      <td>Iniciação a Administração de pessoal</td>\n",
       "      <td>Administracao</td>\n",
       "    </tr>\n",
       "    <tr>\n",
       "      <th>3</th>\n",
       "      <td>Administração de Materiais</td>\n",
       "      <td>Administracao</td>\n",
       "    </tr>\n",
       "    <tr>\n",
       "      <th>4</th>\n",
       "      <td>Gestão Ambiental na Empresa</td>\n",
       "      <td>Administracao</td>\n",
       "    </tr>\n",
       "    <tr>\n",
       "      <th>...</th>\n",
       "      <td>...</td>\n",
       "      <td>...</td>\n",
       "    </tr>\n",
       "    <tr>\n",
       "      <th>1158</th>\n",
       "      <td>Matemática para a escola de hoje.</td>\n",
       "      <td>Matematica</td>\n",
       "    </tr>\n",
       "    <tr>\n",
       "      <th>1159</th>\n",
       "      <td>Matemática: Ensino Médio</td>\n",
       "      <td>Matematica</td>\n",
       "    </tr>\n",
       "    <tr>\n",
       "      <th>1160</th>\n",
       "      <td>Matemática-Ensino Médio</td>\n",
       "      <td>Matematica</td>\n",
       "    </tr>\n",
       "    <tr>\n",
       "      <th>1161</th>\n",
       "      <td>Matemática: uma atividade humana</td>\n",
       "      <td>Matematica</td>\n",
       "    </tr>\n",
       "    <tr>\n",
       "      <th>1162</th>\n",
       "      <td>Matemática: vestibular + enem</td>\n",
       "      <td>Matematica</td>\n",
       "    </tr>\n",
       "  </tbody>\n",
       "</table>\n",
       "<p>1163 rows × 2 columns</p>\n",
       "</div>"
      ],
      "text/plain": [
       "                                    Titulo         Genero\n",
       "0     Iniciação ao Estudo da Administração  Administracao\n",
       "1          Iniciação a Administração geral  Administracao\n",
       "2     Iniciação a Administração de pessoal  Administracao\n",
       "3               Administração de Materiais  Administracao\n",
       "4              Gestão Ambiental na Empresa  Administracao\n",
       "...                                    ...            ...\n",
       "1158     Matemática para a escola de hoje.     Matematica\n",
       "1159              Matemática: Ensino Médio     Matematica\n",
       "1160               Matemática-Ensino Médio     Matematica\n",
       "1161      Matemática: uma atividade humana     Matematica\n",
       "1162         Matemática: vestibular + enem     Matematica\n",
       "\n",
       "[1163 rows x 2 columns]"
      ]
     },
     "execution_count": 4,
     "metadata": {},
     "output_type": "execute_result"
    }
   ],
   "source": [
    "df = pd.read_csv('C:\\\\Users\\\\Rogonfu\\\\Downloads\\\\livros.csv')\n",
    "df"
   ]
  },
  {
   "cell_type": "code",
   "execution_count": null,
   "metadata": {},
   "outputs": [],
   "source": [
    "pd.set_option('display.max_rows', None)"
   ]
  },
  {
   "cell_type": "code",
   "execution_count": null,
   "metadata": {},
   "outputs": [],
   "source": []
  },
  {
   "cell_type": "code",
   "execution_count": 5,
   "metadata": {},
   "outputs": [],
   "source": [
    "del df"
   ]
  },
  {
   "cell_type": "code",
   "execution_count": null,
   "metadata": {},
   "outputs": [],
   "source": []
  },
  {
   "cell_type": "code",
   "execution_count": 6,
   "metadata": {},
   "outputs": [],
   "source": [
    "## Prepare Dataset with Torchtext"
   ]
  },
  {
   "cell_type": "code",
   "execution_count": null,
   "metadata": {},
   "outputs": [],
   "source": []
  },
  {
   "cell_type": "code",
   "execution_count": 7,
   "metadata": {},
   "outputs": [],
   "source": [
    "### Defining the feature processing\n",
    "\n",
    "TEXT = torchtext.data.Field(\n",
    "    tokenize='spacy', # default splits on whitespace\n",
    "    tokenizer_language='pt_core_news_sm'\n",
    ")\n",
    "\n",
    "### Defining the label processing\n",
    "\n",
    "LABEL = torchtext.data.LabelField(dtype=torch.long)"
   ]
  },
  {
   "cell_type": "code",
   "execution_count": null,
   "metadata": {},
   "outputs": [],
   "source": []
  },
  {
   "cell_type": "code",
   "execution_count": 8,
   "metadata": {},
   "outputs": [],
   "source": [
    "fields = [('Titulo', TEXT), ('Genero', LABEL)]\n",
    "\n",
    "dataset = torchtext.data.TabularDataset(\n",
    "    path='C:\\\\Users\\\\Rogonfu\\\\Downloads\\\\livros.csv', format='csv',\n",
    "    skip_header=True, fields=fields)"
   ]
  },
  {
   "cell_type": "code",
   "execution_count": 9,
   "metadata": {},
   "outputs": [],
   "source": [
    "## Split Dataset into Train/Test"
   ]
  },
  {
   "cell_type": "code",
   "execution_count": 10,
   "metadata": {},
   "outputs": [
    {
     "name": "stdout",
     "output_type": "stream",
     "text": [
      "Num Train: 930\n",
      "Num Test: 233\n"
     ]
    }
   ],
   "source": [
    "train_data, test_data = dataset.split(\n",
    "    split_ratio=[0.8, 0.2],\n",
    "    random_state=random.seed(RANDOM_SEED))\n",
    "\n",
    "print(f'Num Train: {len(train_data)}')\n",
    "print(f'Num Test: {len(test_data)}')"
   ]
  },
  {
   "cell_type": "code",
   "execution_count": 11,
   "metadata": {},
   "outputs": [
    {
     "name": "stdout",
     "output_type": "stream",
     "text": [
      "{'Titulo': ['História', 'para', 'o', 'ensino'], 'Genero': 'Historia'}\n",
      "{'Titulo': ['Introdução', 'àdministração', 'de', 'empresas'], 'Genero': 'Administracao'}\n",
      "{'Titulo': ['Introdução', 'à', 'Informática'], 'Genero': 'Matematica'}\n",
      "{'Titulo': ['A', 'Ciência', 'da', 'Biologia'], 'Genero': 'Biologia'}\n",
      "{'Titulo': ['Bandeirantes'], 'Genero': 'Historia'}\n",
      "{'Titulo': ['O', 'último', 'teorema', 'de', 'Fermat', 'História', 'do', 'enigma', 'que', 'confudiu', 'as', 'maiores', 'mentes', 'do', 'mundo', '...'], 'Genero': 'Matematica'}\n",
      "{'Titulo': ['Conjuntos', 'relações', 'funções', 'inequações'], 'Genero': 'Matematica'}\n",
      "{'Titulo': ['national', 'Gallery', 'of', 'Art', '(', 'Washington', ')'], 'Genero': 'Artes'}\n",
      "{'Titulo': ['Minimalismo'], 'Genero': 'Artes'}\n",
      "{'Titulo': ['A', 'saúde', 'do', 'Brasileiro'], 'Genero': 'Historia'}\n",
      "{'Titulo': ['matemática', 'Comercial', 'financeira'], 'Genero': 'Matematica'}\n",
      "{'Titulo': ['Os', 'Egípcios'], 'Genero': 'Historia'}\n",
      "{'Titulo': ['Biologia', '3', '-', 'Genética', '-', 'Evolução', '-', 'Ecologia'], 'Genero': 'Biologia'}\n",
      "{'Titulo': ['Um', 'retrato', 'do', 'Japão'], 'Genero': 'Historia'}\n",
      "{'Titulo': ['Brasil', 'História', 'e', 'Sociedade'], 'Genero': 'Historia'}\n",
      "{'Titulo': ['Fundamentos', 'da', 'Biologia'], 'Genero': 'Biologia'}\n",
      "{'Titulo': ['A', 'Revolução', 'dos', 'Caranguejos'], 'Genero': 'Historia'}\n",
      "{'Titulo': ['Genocídio', 'americano', ':', 'A', 'Guerra', 'do', 'Paraguai'], 'Genero': 'Historia'}\n",
      "{'Titulo': ['WITTGENSTEIN', ':', 'Investigações', 'filosóficas'], 'Genero': 'Historia'}\n",
      "{'Titulo': ['Revoluções', 'na', 'América', 'Latina'], 'Genero': 'Historia'}\n",
      "{'Titulo': ['Atlas', 'Visuais/', 'A', 'terra'], 'Genero': 'Historia'}\n",
      "{'Titulo': ['Administração', ':', 'introdução', 'ao', 'estudo'], 'Genero': 'Administracao'}\n",
      "{'Titulo': ['Fundamentos', 'da', 'Matemática', 'Elementar'], 'Genero': 'Matematica'}\n",
      "{'Titulo': ['Discurso', 'do', 'Método'], 'Genero': 'Historia'}\n",
      "{'Titulo': ['Seca', 'no', 'Nordeste', ':', 'Desafios', 'e', 'Soluções'], 'Genero': 'Historia'}\n",
      "{'Titulo': ['A', 'Administração', 'entre', 'a', 'tradição', 'e', 'a', 'Renovação'], 'Genero': 'Administracao'}\n",
      "{'Titulo': ['Geografia', 'do', 'Brasil', ':', 'região', 'nordeste'], 'Genero': 'Geografia'}\n",
      "{'Titulo': ['Literaturas', 'Brasileira', 'e', 'Portuguesa'], 'Genero': 'Literatura'}\n",
      "{'Titulo': ['Geografia', 'Global'], 'Genero': 'Geografia'}\n",
      "{'Titulo': ['Obras', 'completas', 'com', 'prefácio', 'e', 'notas', 'do', 'prof', '.', 'Marques', 'Braga'], 'Genero': 'Literatura'}\n",
      "{'Titulo': ['Propósitos', 'e', 'natureza', 'da', 'geografia'], 'Genero': 'Geografia'}\n",
      "{'Titulo': ['A', 'invasão', 'cultural', 'norte', 'americana'], 'Genero': 'Historia'}\n",
      "{'Titulo': ['Fundamentos', 'da', 'Matemática', 'Elementar', ':', 'geometria', 'plana'], 'Genero': 'Matematica'}\n",
      "{'Titulo': ['Brasil', 'a', 'terra', 'e', 'o', 'homem', ':', 'V.11', 'A', 'vida', 'humana'], 'Genero': 'Historia'}\n",
      "{'Titulo': ['O', 'brilho', 'de', 'mil', 'sóis', ':', 'história', 'da', 'bomba', 'atômica'], 'Genero': 'Historia'}\n",
      "{'Titulo': ['Meninos', 'de', 'Rua'], 'Genero': 'Historia'}\n",
      "{'Titulo': ['Inconfidencia', 'Mineira'], 'Genero': 'Historia'}\n",
      "{'Titulo': ['Toda', 'a', 'História', '-', 'História', 'geral', 'e', 'do', 'Brasil'], 'Genero': 'Historia'}\n",
      "{'Titulo': ['História', ':', 'conexões', 'com', 'a', 'História'], 'Genero': 'Historia'}\n",
      "{'Titulo': ['Iniciando', 'os', 'conceitos', 'da', 'qualidade', 'total'], 'Genero': 'Administracao'}\n",
      "{'Titulo': ['geografia'], 'Genero': 'Geografia'}\n",
      "{'Titulo': ['Jovens', 'brasileiros', ':', 'uma', 'aventura', 'literaria', 'em', '10', 'momentos', 'da', 'nossa', 'história'], 'Genero': 'Historia'}\n",
      "{'Titulo': ['História', 'do', 'Negro', 'Brasileiro'], 'Genero': 'Historia'}\n",
      "{'Titulo': ['Biologia', 'do', 'Organismos'], 'Genero': 'Biologia'}\n",
      "{'Titulo': ['Como', 'conquistar', 'um', 'ótimo', 'emprego'], 'Genero': 'Administracao'}\n",
      "{'Titulo': ['História', 'e', 'civilização', ':', 'o', 'mundo', 'moderno', 'e', 'contemporâneo'], 'Genero': 'Historia'}\n",
      "{'Titulo': ['Roteiro', 'de', 'Santos'], 'Genero': 'Historia'}\n",
      "{'Titulo': ['A', 'guerra', 'de', 'Piratininga'], 'Genero': 'Historia'}\n",
      "{'Titulo': ['Introdução', 'à', 'administração', 'da', 'produção', 'e', 'operações'], 'Genero': 'Administracao'}\n",
      "{'Titulo': ['A', 'Revolução', 'mexicana'], 'Genero': 'Historia'}\n",
      "{'Titulo': ['Rijksmuseum'], 'Genero': 'Artes'}\n",
      "{'Titulo': ['Matemática', 'aplicada', 'à', 'economia', 'e', 'administração'], 'Genero': 'Matematica'}\n",
      "{'Titulo': ['Exploração', 'da', 'obra', 'literária'], 'Genero': 'Literatura'}\n",
      "{'Titulo': ['Horizontes', 'da', 'história'], 'Genero': 'Historia'}\n",
      "{'Titulo': ['Matemática', '-', 'Com', 'trigonometria'], 'Genero': 'Matematica'}\n",
      "{'Titulo': ['Do', 'feudalismo', 'ao', 'capitalismo', 'transições'], 'Genero': 'Historia'}\n",
      "{'Titulo': ['História', ':', 'Geral', 'e', 'do', 'Brasil'], 'Genero': 'Historia'}\n",
      "{'Titulo': ['Iniciação', 'ao', 'Teatro'], 'Genero': 'Artes'}\n",
      "{'Titulo': ['História', 'Geral', 'da', 'Arte', '-', 'A', 'arte', ':', 'a', 'beleza', 'e', 'suas', 'formas'], 'Genero': 'Historia'}\n",
      "{'Titulo': ['A', 'nova', 'política', 'do', 'Brasil', ':', 'o', 'estado', 'novo', '10', 'de', 'nov', '.', 'de', '1937', 'a', '25', 'de', 'jul', '.', 'de', '1938'], 'Genero': 'Historia'}\n",
      "{'Titulo': ['Van', 'Gogh'], 'Genero': 'Artes'}\n",
      "{'Titulo': ['Tempo', 'e', 'Espaço'], 'Genero': 'Historia'}\n",
      "{'Titulo': ['Matemática', ':', 'uma', 'atividade', 'humana'], 'Genero': 'Matematica'}\n",
      "{'Titulo': ['Como', 'reconhecer', 'a', 'arte', 'gótica'], 'Genero': 'Historia'}\n",
      "{'Titulo': ['Panorama', 'Geográfico', '  ', 'do', 'Brasil'], 'Genero': 'Geografia'}\n",
      "{'Titulo': ['Brasil', 'a', 'terra', 'e', 'o', 'homem'], 'Genero': 'Historia'}\n",
      "{'Titulo': ['História', 'da', 'Igreja', 'do', 'Rosário', 'de', 'Santos'], 'Genero': 'Historia'}\n",
      "{'Titulo': ['Conecte', ':', 'Território', 'e', 'sociedade', 'no', 'mundo', 'globalizado'], 'Genero': 'Geografia'}\n",
      "{'Titulo': ['Conscience', 'Morbide'], 'Genero': 'Historia'}\n",
      "{'Titulo': ['Vereda', 'digital', 'Geografia'], 'Genero': 'Geografia'}\n",
      "{'Titulo': ['Terra', 'do', 'Brasil', ':', 'a', 'conquista', 'lusitana', 'e', 'o', 'genocídio', 'Tupinambá'], 'Genero': 'Historia'}\n",
      "{'Titulo': ['A', 'legenda', 'dourada', ':', 'nova', 'mitologia', 'clássica'], 'Genero': 'Historia'}\n",
      "{'Titulo': ['Povos', 'Indígenas', ':', 'Terras', 'e', 'Vida'], 'Genero': 'Historia'}\n",
      "{'Titulo': ['Biologia', 'só', 'testes'], 'Genero': 'Biologia'}\n",
      "{'Titulo': ['Lutas', 'e', 'Sonhos', ':', 'Cultura', 'política'], 'Genero': 'Historia'}\n",
      "{'Titulo': ['O', 'imperialismo'], 'Genero': 'Historia'}\n",
      "{'Titulo': ['Político', 'e', 'rebelião', 'nos', 'anos', '30'], 'Genero': 'Historia'}\n",
      "{'Titulo': ['Organização', 'de', 'Eventos', 'e', 'Solenidades'], 'Genero': 'Administracao'}\n",
      "{'Titulo': ['O', 'dilema', 'da', 'Amazônia'], 'Genero': 'Historia'}\n",
      "{'Titulo': ['National', 'Gallery', '(', 'Londres', ')'], 'Genero': 'Artes'}\n",
      "{'Titulo': ['Geografia', 'e', 'participação', ':', 'as', 'regiões', 'do', 'Brasil'], 'Genero': 'Geografia'}\n",
      "{'Titulo': ['O', 'computador', 'na', 'administração', 'de', 'empresas'], 'Genero': 'Administracao'}\n",
      "{'Titulo': ['Roma', ':', 'Vida', 'pública', 'e', 'vida', 'privada'], 'Genero': 'Historia'}\n",
      "{'Titulo': ['História', 'do', 'Brasil'], 'Genero': 'Historia'}\n",
      "{'Titulo': ['Fundamentos', 'de', 'Administração'], 'Genero': 'Administracao'}\n",
      "{'Titulo': ['Elementos', 'de', 'teoria', 'literária'], 'Genero': 'Literatura'}\n",
      "{'Titulo': ['Mamática', '2', 'grau'], 'Genero': 'Matematica'}\n",
      "{'Titulo': ['Finanças', 'corporativas', 'e', 'valor'], 'Genero': 'Administracao'}\n",
      "{'Titulo': ['A', 'Literatura', 'Brasileira'], 'Genero': 'Literatura'}\n",
      "{'Titulo': ['Histologia'], 'Genero': 'Biologia'}\n",
      "{'Titulo': ['Diversidade', 'Animal'], 'Genero': 'Biologia'}\n",
      "{'Titulo': ['Matemática', 'para', 'Administração'], 'Genero': 'Matematica'}\n",
      "{'Titulo': ['Os', 'Sertões'], 'Genero': 'Historia'}\n",
      "{'Titulo': ['Embate', 'encarniçado', 'em', 'Iwo', 'Jima', 'e', 'Okinawa'], 'Genero': 'Historia'}\n",
      "{'Titulo': ['Império', 'do', 'Café', ':', 'A', 'grande', 'lavoura', 'no', 'Brasil', '1850', 'à', '1890'], 'Genero': 'Historia'}\n",
      "{'Titulo': ['Descartes', ':', 'a', 'filosofia', 'da', 'mente', 'de', 'Descartes'], 'Genero': 'Historia'}\n",
      "{'Titulo': ['Sistemas', 'de', 'Informação'], 'Genero': 'Administracao'}\n",
      "{'Titulo': ['Formação', 'da', 'África', 'contemporânea'], 'Genero': 'Historia'}\n",
      "{'Titulo': ['Programa', 'de', 'Qualidade', 'Geral', 'PQC'], 'Genero': 'Administracao'}\n",
      "{'Titulo': ['Grandeza', 'e', 'decadência', 'de', 'Roma', ':', 'a', 'conquista', 'do', 'império'], 'Genero': 'Historia'}\n",
      "{'Titulo': ['Van', 'Gogh'], 'Genero': 'Artes'}\n",
      "{'Titulo': ['Reengenharia', ':', 'revolucionando', 'a', 'empresa', 'em', 'função', 'dos', 'alunos'], 'Genero': 'Administracao'}\n",
      "{'Titulo': ['Introdução', 'à', 'administração', 'de', 'empresas'], 'Genero': 'Administracao'}\n",
      "{'Titulo': ['História', 'Geológica', 'da', 'vida'], 'Genero': 'Historia'}\n",
      "{'Titulo': ['Síntese', 'de', 'História', 'da', 'Cultura', 'Brasileira'], 'Genero': 'Historia'}\n",
      "{'Titulo': ['História', 'de', 'Santos'], 'Genero': 'Historia'}\n",
      "{'Titulo': ['Bairros', 'rurais', 'paulistas'], 'Genero': 'Historia'}\n",
      "{'Titulo': ['Museo', 'de', 'Arte', 'Moderno', '-', 'Paris'], 'Genero': 'Historia'}\n",
      "{'Titulo': ['Biologia', '2', ':', 'Seres', 'Vivos', 'estrutura', 'e', 'função'], 'Genero': 'Biologia'}\n",
      "{'Titulo': ['A', 'Baixada', 'Santista', ':', 'aspectos', 'e', 'suas', 'indústrias'], 'Genero': 'Historia'}\n",
      "{'Titulo': ['Fisiologia', 'Vegetal'], 'Genero': 'Biologia'}\n",
      "{'Titulo': ['Bioquímica', 'da', 'poluição'], 'Genero': 'Biologia'}\n",
      "{'Titulo': ['História'], 'Genero': 'Historia'}\n",
      "{'Titulo': ['Museu', 'do', 'Louvre', 'Paris'], 'Genero': 'Artes'}\n",
      "{'Titulo': ['Biologia', 'para', 'o', 'Ensino', 'Médio'], 'Genero': 'Biologia'}\n",
      "{'Titulo': ['A', 'guerra', 'chega', 'aos', 'bálcãs'], 'Genero': 'Historia'}\n",
      "{'Titulo': ['D.João', 'VI', ':', 'Os', 'Bastidores', 'da', 'Independência'], 'Genero': 'Historia'}\n",
      "{'Titulo': ['O', 'Brasil', 'de', 'Dutra', 'e', 'Vargas'], 'Genero': 'Historia'}\n",
      "{'Titulo': ['Toda', 'a', 'literatura', 'portuguesa', 'e', 'brasileira'], 'Genero': 'Literatura'}\n",
      "{'Titulo': ['Evolução', 'política', 'do', 'Brasil', 'e', 'outros', 'estudos'], 'Genero': 'Historia'}\n",
      "{'Titulo': ['Kant', ':', 'Crítica', 'da', 'Razão', 'Pura'], 'Genero': 'Historia'}\n",
      "{'Titulo': ['Português'], 'Genero': 'Literatura'}\n",
      "{'Titulo': ['Os', 'gregos', 'até', 'Alexandre'], 'Genero': 'Historia'}\n",
      "{'Titulo': ['Estudos', 'de', 'história', 'moderna', 'e', 'contemporânea'], 'Genero': 'Historia'}\n",
      "{'Titulo': ['Aprender', 'e', 'aplicar', 'matemática'], 'Genero': 'Matematica'}\n",
      "{'Titulo': ['Matemática', 'fundamental', ':', 'uma', 'nova', 'abordagem'], 'Genero': 'Matematica'}\n",
      "{'Titulo': ['Análise', 'financeira', 'de', 'balanço', ':', 'abordagem', 'básica', 'e', 'gerencial'], 'Genero': 'Administracao'}\n",
      "{'Titulo': ['Noções', 'de', 'cálculo', 'numérico'], 'Genero': 'Matematica'}\n",
      "{'Titulo': ['Platão', ':', 'ousar', 'a', 'utopia'], 'Genero': 'Historia'}\n",
      "{'Titulo': ['Fitocromo', 'e', 'crescimento', 'vegetal'], 'Genero': 'Biologia'}\n",
      "{'Titulo': ['Administração', 'Estratégica', 'de', 'Serviços', ':', 'operações', 'para', 'a', 'satisfação', 'do', 'aluno'], 'Genero': 'Administracao'}\n",
      "{'Titulo': ['Como', 'seria', ' ', 'sua', 'Vida', 'na', 'Idade', 'Média', '?'], 'Genero': 'Historia'}\n",
      "{'Titulo': ['Matemática-construção', 'e', 'significado'], 'Genero': 'Matematica'}\n",
      "{'Titulo': ['Matemática', ':', 'contexto', 'e', 'aplicações', '-', '3'], 'Genero': 'Matematica'}\n",
      "{'Titulo': ['Pearl', 'Harbor', 'em', 'chamas', ':', 'EUA', 'entram', 'em', 'guerra'], 'Genero': 'Historia'}\n",
      "{'Titulo': ['Biologia', '-', 'Livro', 'Texto', 'Anglo', '-', 'Ensino', 'Médio', '1ª', 'Série'], 'Genero': 'Biologia'}\n",
      "{'Titulo': ['A', 'Guerra', 'do', 'Vietnã'], 'Genero': 'Historia'}\n",
      "{'Titulo': ['Os', 'Etruscos'], 'Genero': 'Historia'}\n",
      "{'Titulo': ['Como', 'salvar', 'o', 'seu', 'emprego'], 'Genero': 'Administracao'}\n",
      "{'Titulo': ['Genética', 'Humana', 'e', 'medicina'], 'Genero': 'Biologia'}\n",
      "{'Titulo': ['Os', 'Índios', 'Norte', '-', 'Americanos', ':', 'Cinco', 'séculos', 'de', 'Luta', 'e', 'opressão'], 'Genero': 'Historia'}\n",
      "{'Titulo': ['British', 'Museum', '(', 'Londres', ')'], 'Genero': 'Artes'}\n",
      "{'Titulo': ['Formação', 'do', 'Brasil', 'Contemporâneo'], 'Genero': 'Historia'}\n",
      "{'Titulo': ['Matemática', '-', 'Livro', 'do', 'Professor'], 'Genero': 'Matematica'}\n",
      "{'Titulo': ['História', 'Geral', 'da', 'Arte', '-', 'Arquitetura', 'III'], 'Genero': 'Historia'}\n",
      "{'Titulo': ['Pinacoteca', 'do', 'Estado', 'de', 'São', 'Paulo', '(', 'São', 'Paulo', ')'], 'Genero': 'Artes'}\n",
      "{'Titulo': ['Clássicos', 'do', 'romance', 'brasileiro'], 'Genero': 'Literatura'}\n",
      "{'Titulo': ['Criando', 'organizações', 'eficazes', ':', 'estruturas', 'em', 'cinco', 'configurações'], 'Genero': 'Administracao'}\n",
      "{'Titulo': ['Pedro', 'Álvares', 'Cabral'], 'Genero': 'Historia'}\n",
      "{'Titulo': ['Fundamentos', 'Matemáticos', 'para', 'a', 'Ciência', 'da', 'Computação'], 'Genero': 'Matematica'}\n",
      "{'Titulo': ['As', 'batalhas', 'do', 'mar', 'de', 'coral', 'e', 'de', 'Midway'], 'Genero': 'Historia'}\n",
      "{'Titulo': ['Matemática', 'uma', 'nova', 'abordagem'], 'Genero': 'Matematica'}\n",
      "{'Titulo': ['Salvador', 'Dali'], 'Genero': 'Artes'}\n",
      "{'Titulo': ['O', 'Século', 'Inacabado', ':', 'A', 'América', 'desde', '1900'], 'Genero': 'Historia'}\n",
      "{'Titulo': ['O', 'Brasil', 'da', 'Abertura', 'de', '1974', 'à', 'Constituinte'], 'Genero': 'Historia'}\n",
      "{'Titulo': ['As', 'Idéias', 'fundamentais', 'da', 'matemática', 'e', 'outros', 'ensaios'], 'Genero': 'Matematica'}\n",
      "{'Titulo': ['Massacre', 'em', 'Pequim'], 'Genero': 'Historia'}\n",
      "{'Titulo': ['A', 'democracia', 'no', 'Brasil'], 'Genero': 'Historia'}\n",
      "{'Titulo': ['Imperialismo', 'e', 'fragmentação', 'do', 'espaço'], 'Genero': 'Geografia'}\n",
      "{'Titulo': ['A', 'Amazônia'], 'Genero': 'Historia'}\n",
      "{'Titulo': ['África', 'e', 'Brasil', ':', 'uma', 'ponte', 'sobre', 'o', 'Atlântico'], 'Genero': 'Historia'}\n",
      "{'Titulo': ['Os', 'Dois', 'Brasis'], 'Genero': 'Historia'}\n",
      "{'Titulo': ['Biologia', 'Ciência', 'da', 'Vida', ':', 'Seres', 'Vivos'], 'Genero': 'Biologia'}\n",
      "{'Titulo': ['Brasileiras', 'guerreiras', 'da', 'paz'], 'Genero': 'Historia'}\n",
      "{'Titulo': ['Biologia', ':', 'Genética'], 'Genero': 'Biologia'}\n",
      "{'Titulo': ['Matemática', ':', 'Ensino', 'Médio'], 'Genero': 'Matematica'}\n",
      "{'Titulo': ['Fundamentos', 'de', 'Matemática', 'elementar', 'sequências'], 'Genero': 'Matematica'}\n",
      "{'Titulo': ['Aprenda', 'a', 'delegar', 'com', 'eficiência'], 'Genero': 'Administracao'}\n",
      "{'Titulo': ['Matemática', ':', 'construção', 'e', 'significado'], 'Genero': 'Matematica'}\n",
      "{'Titulo': ['Corpo', 'Humano', ':', 'funções', 'de', 'nutrição'], 'Genero': 'Biologia'}\n",
      "{'Titulo': ['Por', 'que', 'acredito'], 'Genero': 'Historia'}\n",
      "{'Titulo': ['A', 'violência', 'no', 'Brasil'], 'Genero': 'Historia'}\n",
      "{'Titulo': ['Ofina', 'de', 'História', ':', 'História', 'Integrada'], 'Genero': 'Historia'}\n",
      "{'Titulo': ['Evolução', 'da', 'Vida'], 'Genero': 'Biologia'}\n",
      "{'Titulo': ['Liderança', 'e', 'dinâmica', 'de', 'grupo', ':', 'ciência', 'da', 'administração'], 'Genero': 'Administracao'}\n",
      "{'Titulo': ['Geometria', 'analítica'], 'Genero': 'Matematica'}\n",
      "{'Titulo': ['Pão', 'de', 'Açúcar'], 'Genero': 'Artes'}\n",
      "{'Titulo': ['Revolução', 'dos', 'Farrapos'], 'Genero': 'Historia'}\n",
      "{'Titulo': ['A', 'aurora', 'da', 'civilização'], 'Genero': 'Historia'}\n",
      "{'Titulo': ['Controladoria', 'Estratégica', 'e', 'Operacional'], 'Genero': 'Administracao'}\n",
      "{'Titulo': ['Desenhando', 'com', 'o', 'lado', 'direito', 'do', 'cérebro'], 'Genero': 'Artes'}\n",
      "{'Titulo': ['Panorama', 'Geográfico', 'do', 'Brasil'], 'Genero': 'Geografia'}\n",
      "{'Titulo': ['Desembarque', 'na', 'Normandia', ':', 'o', 'mais', 'longo', 'dos', 'dias'], 'Genero': 'Historia'}\n",
      "{'Titulo': ['Biologia', 'das', 'populações'], 'Genero': 'Biologia'}\n",
      "{'Titulo': ['Cem', 'dias', 'entre', 'o', 'céu', 'e', 'mar'], 'Genero': 'Geografia'}\n",
      "{'Titulo': ['Salvador', 'Dali'], 'Genero': 'Artes'}\n",
      "{'Titulo': ['Teoria', 'Geral', 'da', 'Administração', ':', 'da', 'escola', '...'], 'Genero': 'Administracao'}\n",
      "{'Titulo': ['História', '-', 'Sociedade', 'e', 'Cidadania'], 'Genero': 'Historia'}\n",
      "{'Titulo': ['A', 'grande', 'sacada', 'de', 'Pedro'], 'Genero': 'Historia'}\n",
      "{'Titulo': ['Matemática', 'para', 'a', 'escola', 'de', 'hoje', '.'], 'Genero': 'Matematica'}\n",
      "{'Titulo': ['Orientação', 'de', 'Leitura', 'e', 'Abordagem', 'Literária', '-', 'Prosa'], 'Genero': 'Literatura'}\n",
      "{'Titulo': ['As', 'Tribos', 'do', 'Mal'], 'Genero': 'Historia'}\n",
      "{'Titulo': ['Curso', 'básico', 'de', 'biologia'], 'Genero': 'Biologia'}\n",
      "{'Titulo': ['A', 'Gaia', 'Ciência'], 'Genero': 'Historia'}\n",
      "{'Titulo': ['Para', 'entender', 'o', 'Mercosul'], 'Genero': 'Historia'}\n",
      "{'Titulo': ['Literatura', 'e', 'Linguagem'], 'Genero': 'Literatura'}\n",
      "{'Titulo': ['Do', 'conhecimento', 'histórico'], 'Genero': 'Historia'}\n",
      "{'Titulo': ['Hístoria', 'Moderna', 'Contemporânea'], 'Genero': 'Historia'}\n",
      "{'Titulo': ['Revolta', 'de', 'colonos', 'imigrantes'], 'Genero': 'Historia'}\n",
      "{'Titulo': ['O', 'que', 'é', 'Palestina'], 'Genero': 'Historia'}\n",
      "{'Titulo': ['Biologia1', '-', 'Citologia', '-', 'Histologia'], 'Genero': 'Biologia'}\n",
      "{'Titulo': ['Viagem', 'pitoresca', 'e', 'Histórica', 'ao', 'Brasil'], 'Genero': 'Historia'}\n",
      "{'Titulo': ['Os', 'melhores', 'poemas', 'de', 'Castro', 'Alves'], 'Genero': 'Geografia'}\n",
      "{'Titulo': ['Curso', 'de', 'trigonometria', 'plana'], 'Genero': 'Matematica'}\n",
      "{'Titulo': ['História', '1', ':', 'Brasil', 'Colônia'], 'Genero': 'Historia'}\n",
      "{'Titulo': ['Ciências', 'Biológicas', '1', 'e', '3'], 'Genero': 'Biologia'}\n",
      "{'Titulo': ['Edward', 'Hopper', ':', 'transformação', 'do', 'real'], 'Genero': 'Artes'}\n",
      "{'Titulo': ['Literatura', 'história', 'e', 'texto', '2'], 'Genero': 'Literatura'}\n",
      "{'Titulo': ['Museu', 'Egípcio', '(', 'Cairo', ')'], 'Genero': 'Artes'}\n",
      "{'Titulo': ['Matemática', 'na', 'escola', 'do', '2º', 'grau'], 'Genero': 'Matematica'}\n",
      "{'Titulo': ['Fundamentos', 'da', 'Matemática'], 'Genero': 'Matematica'}\n",
      "{'Titulo': ['Leituras', 'da', 'História'], 'Genero': 'Historia'}\n",
      "{'Titulo': ['A', 'revolução', 'chinesa'], 'Genero': 'Historia'}\n",
      "{'Titulo': ['Navegar', 'é', 'preciso', ':', 'grandes', 'descobrimentos', 'maritimos', 'europeus'], 'Genero': 'Geografia'}\n",
      "{'Titulo': ['Demografia', 'brasileira'], 'Genero': 'Geografia'}\n",
      "{'Titulo': ['As', 'revoluções', 'burguesas'], 'Genero': 'Historia'}\n",
      "{'Titulo': ['A', 'geografia', 'da', 'gente'], 'Genero': 'Geografia'}\n",
      "{'Titulo': ['Projeto', 'arte', 'brasileira'], 'Genero': 'Historia'}\n",
      "{'Titulo': ['Brasil', ':', 'uma', 'história', 'em', 'construção'], 'Genero': 'Historia'}\n",
      "{'Titulo': ['Cinema', 'e', 'história', 'do', 'Brasil'], 'Genero': 'Historia'}\n",
      "{'Titulo': ['Fundamentos', 'de', 'Matemática', 'Elementar', ':', 'conjuntos', 'e', 'funções'], 'Genero': 'Matematica'}\n",
      "{'Titulo': ['O', 'que', 'é', 'Marxismo'], 'Genero': 'Historia'}\n",
      "{'Titulo': ['Matemática', 'para', 'o', 'ensino', 'médio'], 'Genero': 'Matematica'}\n",
      "{'Titulo': ['A', 'unificação', 'da', 'Europa'], 'Genero': 'Historia'}\n",
      "{'Titulo': ['Finlândia', 'contra', 'URSS', ':', 'Guerra', 'na', 'neve'], 'Genero': 'Historia'}\n",
      "{'Titulo': ['Minas', 'Colonial'], 'Genero': 'Historia'}\n",
      "{'Titulo': ['Museu', 'do', 'Louvre', 'Paris'], 'Genero': 'Artes'}\n",
      "{'Titulo': ['Administração', 'de', 'materiais', 'e', 'do', 'patrimônio'], 'Genero': 'Administracao'}\n",
      "{'Titulo': ['Introdução', 'aos', 'Estudos', 'sociais'], 'Genero': 'Historia'}\n",
      "{'Titulo': ['A', 'revolução', 'burguesa'], 'Genero': 'Historia'}\n",
      "{'Titulo': ['Novo', 'olhar', 'História'], 'Genero': 'Historia'}\n",
      "{'Titulo': ['Geografia', ':', 'ciência', 'do', 'espaço', ':', 'o', 'espaço', 'mundial'], 'Genero': 'Geografia'}\n",
      "{'Titulo': ['História', 'e', 'Vida', ':', 'Da', 'idade', 'Moderna', 'à', 'Atualidade'], 'Genero': 'Historia'}\n"
     ]
    }
   ],
   "source": [
    "for i in range(0,233):\n",
    "    print(vars(test_data[i]))"
   ]
  },
  {
   "cell_type": "code",
   "execution_count": 12,
   "metadata": {},
   "outputs": [
    {
     "name": "stdout",
     "output_type": "stream",
     "text": [
      "{'Titulo': ['História', 'para', 'o', 'ensino'], 'Genero': 'Historia'}\n"
     ]
    }
   ],
   "source": [
    "print(vars(test_data.examples[0]))"
   ]
  },
  {
   "cell_type": "code",
   "execution_count": 13,
   "metadata": {},
   "outputs": [],
   "source": [
    "## Build Vocabulary"
   ]
  },
  {
   "cell_type": "code",
   "execution_count": 14,
   "metadata": {},
   "outputs": [
    {
     "name": "stdout",
     "output_type": "stream",
     "text": [
      "Vocabulary size: 1629\n",
      "Number of classes: 7\n"
     ]
    }
   ],
   "source": [
    "TEXT.build_vocab(train_data)\n",
    "LABEL.build_vocab(train_data)\n",
    "\n",
    "print(f'Vocabulary size: {len(TEXT.vocab)}')\n",
    "print(f'Number of classes: {len(LABEL.vocab)}')"
   ]
  },
  {
   "cell_type": "code",
   "execution_count": null,
   "metadata": {},
   "outputs": [],
   "source": []
  },
  {
   "cell_type": "code",
   "execution_count": 15,
   "metadata": {},
   "outputs": [
    {
     "name": "stdout",
     "output_type": "stream",
     "text": [
      "[('e', 237), (':', 226), ('de', 203), ('da', 162), ('do', 120), ('História', 107), ('A', 98), ('Brasil', 91), ('-', 84), ('a', 79), ('O', 78), ('Matemática', 61), ('o', 54), ('Geografia', 51), ('Biologia', 50), ('Geral', 39), ('no', 38), ('Administração', 37), ('(', 31), (')', 31)]\n"
     ]
    }
   ],
   "source": [
    "print(TEXT.vocab.freqs.most_common(20))"
   ]
  },
  {
   "cell_type": "code",
   "execution_count": 16,
   "metadata": {},
   "outputs": [
    {
     "name": "stdout",
     "output_type": "stream",
     "text": [
      "['<unk>', '<pad>', 'e', ':', 'de', 'da', 'do', 'História', 'A', 'Brasil']\n"
     ]
    }
   ],
   "source": [
    "print(TEXT.vocab.itos[:10]) # itos = integer-to-string"
   ]
  },
  {
   "cell_type": "code",
   "execution_count": 17,
   "metadata": {},
   "outputs": [
    {
     "name": "stdout",
     "output_type": "stream",
     "text": [
      "defaultdict(None, {'Historia': 0, 'Administracao': 1, 'Geografia': 2, 'Biologia': 3, 'Matematica': 4, 'Artes': 5, 'Literatura': 6})\n"
     ]
    }
   ],
   "source": [
    "print(LABEL.vocab.stoi)"
   ]
  },
  {
   "cell_type": "code",
   "execution_count": 18,
   "metadata": {},
   "outputs": [
    {
     "data": {
      "text/plain": [
       "Counter({'Administracao': 134,\n",
       "         'Historia': 350,\n",
       "         'Artes': 70,\n",
       "         'Biologia': 114,\n",
       "         'Matematica': 104,\n",
       "         'Geografia': 116,\n",
       "         'Literatura': 42})"
      ]
     },
     "execution_count": 18,
     "metadata": {},
     "output_type": "execute_result"
    }
   ],
   "source": [
    "LABEL.vocab.freqs"
   ]
  },
  {
   "cell_type": "code",
   "execution_count": 19,
   "metadata": {},
   "outputs": [],
   "source": [
    "## Define Data Loaders"
   ]
  },
  {
   "cell_type": "code",
   "execution_count": 20,
   "metadata": {},
   "outputs": [],
   "source": [
    "train_loader ,test_loader = \\\n",
    "        torchtext.data.BucketIterator.splits(\n",
    "        (train_data, test_data),\n",
    "         batch_size=BATCH_SIZE,\n",
    "         sort_within_batch=False,\n",
    "         sort_key=lambda x: len(x.Titulo),\n",
    "         device=DEVICE\n",
    "    )"
   ]
  },
  {
   "cell_type": "code",
   "execution_count": null,
   "metadata": {},
   "outputs": [],
   "source": []
  },
  {
   "cell_type": "code",
   "execution_count": null,
   "metadata": {},
   "outputs": [],
   "source": []
  },
  {
   "cell_type": "code",
   "execution_count": 21,
   "metadata": {},
   "outputs": [
    {
     "name": "stdout",
     "output_type": "stream",
     "text": [
      "(0, \n",
      "[torchtext.data.batch.Batch of size 100]\n",
      "\t[.Titulo]:[torch.LongTensor of size 4x100]\n",
      "\t[.Genero]:[torch.LongTensor of size 100])\n",
      "(1, \n",
      "[torchtext.data.batch.Batch of size 100]\n",
      "\t[.Titulo]:[torch.LongTensor of size 8x100]\n",
      "\t[.Genero]:[torch.LongTensor of size 100])\n",
      "(2, \n",
      "[torchtext.data.batch.Batch of size 33]\n",
      "\t[.Titulo]:[torch.LongTensor of size 22x33]\n",
      "\t[.Genero]:[torch.LongTensor of size 33])\n"
     ]
    }
   ],
   "source": [
    "for i in enumerate(test_loader):\n",
    "    print(i)"
   ]
  },
  {
   "cell_type": "code",
   "execution_count": null,
   "metadata": {},
   "outputs": [],
   "source": []
  },
  {
   "cell_type": "code",
   "execution_count": 22,
   "metadata": {},
   "outputs": [
    {
     "name": "stdout",
     "output_type": "stream",
     "text": [
      "Train\n",
      "Text matrix size: torch.Size([14, 100])\n",
      "Target vector size: torch.Size([100])\n",
      "\n",
      "Test:\n",
      "Text matrix size: torch.Size([4, 100])\n",
      "Target vector size: torch.Size([100])\n"
     ]
    }
   ],
   "source": [
    "print('Train')\n",
    "for batch in train_loader:\n",
    "    print(f'Text matrix size: {batch.Titulo.size()}')\n",
    "    print(f'Target vector size: {batch.Genero.size()}')\n",
    "    break\n",
    "    \n",
    "print('\\nTest:')\n",
    "for batch in test_loader:\n",
    "    print(f'Text matrix size: {batch.Titulo.size()}')\n",
    "    print(f'Target vector size: {batch.Genero.size()}')\n",
    "    break"
   ]
  },
  {
   "cell_type": "code",
   "execution_count": null,
   "metadata": {},
   "outputs": [],
   "source": [
    "## Model"
   ]
  },
  {
   "cell_type": "code",
   "execution_count": 23,
   "metadata": {},
   "outputs": [],
   "source": [
    "class RNN(torch.nn.Module):\n",
    "    \n",
    "    def __init__(self, input_dim, embedding_dim, hidden_dim, output_dim):\n",
    "        super().__init__()\n",
    "\n",
    "        self.embedding = torch.nn.Embedding(input_dim, embedding_dim)\n",
    "        #self.rnn = torch.nn.RNN(embedding_dim,\n",
    "        #                        hidden_dim,\n",
    "        #                        nonlinearity='relu')\n",
    "        self.rnn = torch.nn.LSTM(embedding_dim,\n",
    "                                 hidden_dim)        \n",
    "        \n",
    "        self.fc = torch.nn.Linear(hidden_dim, output_dim)\n",
    "        \n",
    "\n",
    "    def forward(self, text):\n",
    "        # text dim: [sentence length, batch size]\n",
    "        \n",
    "        embedded = self.embedding(text)\n",
    "        # embedded dim: [sentence length, batch size, embedding dim]\n",
    "        \n",
    "        output, (hidden, cell) = self.rnn(embedded)\n",
    "        # output dim: [sentence length, batch size, hidden dim]\n",
    "        # hidden dim: [1, batch size, hidden dim]\n",
    "\n",
    "        hidden.squeeze_(0)\n",
    "        # hidden dim: [batch size, hidden dim]\n",
    "        \n",
    "        output = self.fc(hidden)\n",
    "        return output"
   ]
  },
  {
   "cell_type": "code",
   "execution_count": 24,
   "metadata": {},
   "outputs": [
    {
     "name": "stdout",
     "output_type": "stream",
     "text": [
      "RNN(\n",
      "  (embedding): Embedding(1629, 100)\n",
      "  (rnn): LSTM(100, 256)\n",
      "  (fc): Linear(in_features=256, out_features=7, bias=True)\n",
      ")\n"
     ]
    }
   ],
   "source": [
    "torch.manual_seed(RANDOM_SEED)\n",
    "model = RNN(input_dim=len(TEXT.vocab),\n",
    "            embedding_dim=EMBEDDING_DIM,\n",
    "            hidden_dim=HIDDEN_DIM,\n",
    "            output_dim=NUM_CLASSES # could use 1 for binary classification\n",
    ")\n",
    "\n",
    "model = model.to(DEVICE)\n",
    "optimizer = torch.optim.Adam(model.parameters(), lr=0.005)\n",
    "print(model)"
   ]
  },
  {
   "cell_type": "code",
   "execution_count": 25,
   "metadata": {},
   "outputs": [],
   "source": [
    "def compute_accuracy(model, data_loader, device):\n",
    "\n",
    "    with torch.no_grad():\n",
    "\n",
    "        correct_pred, num_examples = 0, 0\n",
    "\n",
    "        for i, (features, targets) in enumerate(data_loader):\n",
    "\n",
    "            features = features.to(device)\n",
    "            targets = targets.float().to(device)\n",
    "\n",
    "            logits = model(features)\n",
    "            _, predicted_labels = torch.max(logits, 1)\n",
    "\n",
    "            num_examples += targets.size(0)\n",
    "            correct_pred += (predicted_labels == targets).sum()\n",
    "            \n",
    "    return correct_pred.float()/num_examples * 100"
   ]
  },
  {
   "cell_type": "code",
   "execution_count": 26,
   "metadata": {},
   "outputs": [
    {
     "name": "stdout",
     "output_type": "stream",
     "text": [
      "Epoch: 001/015 | Batch 000/010 | Loss: 1.9658\n",
      "training accuracy: 37.85%\n",
      "Time elapsed: 0.01 min\n",
      "Epoch: 002/015 | Batch 000/010 | Loss: 1.7855\n",
      "training accuracy: 37.85%\n",
      "Time elapsed: 0.02 min\n",
      "Epoch: 003/015 | Batch 000/010 | Loss: 1.7459\n",
      "training accuracy: 37.85%\n",
      "Time elapsed: 0.03 min\n",
      "Epoch: 004/015 | Batch 000/010 | Loss: 1.6340\n",
      "training accuracy: 37.85%\n",
      "Time elapsed: 0.04 min\n",
      "Epoch: 005/015 | Batch 000/010 | Loss: 1.5975\n",
      "training accuracy: 37.85%\n",
      "Time elapsed: 0.05 min\n",
      "Epoch: 006/015 | Batch 000/010 | Loss: 1.5136\n",
      "training accuracy: 45.70%\n",
      "Time elapsed: 0.06 min\n",
      "Epoch: 007/015 | Batch 000/010 | Loss: 1.4317\n",
      "training accuracy: 48.82%\n",
      "Time elapsed: 0.07 min\n",
      "Epoch: 008/015 | Batch 000/010 | Loss: 1.2874\n",
      "training accuracy: 66.24%\n",
      "Time elapsed: 0.08 min\n",
      "Epoch: 009/015 | Batch 000/010 | Loss: 1.0512\n",
      "training accuracy: 75.81%\n",
      "Time elapsed: 0.08 min\n",
      "Epoch: 010/015 | Batch 000/010 | Loss: 0.7206\n",
      "training accuracy: 79.46%\n",
      "Time elapsed: 0.09 min\n",
      "Epoch: 011/015 | Batch 000/010 | Loss: 0.5635\n",
      "training accuracy: 90.43%\n",
      "Time elapsed: 0.10 min\n",
      "Epoch: 012/015 | Batch 000/010 | Loss: 0.3182\n",
      "training accuracy: 95.38%\n",
      "Time elapsed: 0.11 min\n",
      "Epoch: 013/015 | Batch 000/010 | Loss: 0.2845\n",
      "training accuracy: 98.39%\n",
      "Time elapsed: 0.12 min\n",
      "Epoch: 014/015 | Batch 000/010 | Loss: 0.1798\n",
      "training accuracy: 98.92%\n",
      "Time elapsed: 0.13 min\n",
      "Epoch: 015/015 | Batch 000/010 | Loss: 0.0532\n",
      "training accuracy: 98.82%\n",
      "Time elapsed: 0.14 min\n",
      "Total Training Time: 0.14 min\n",
      "Test accuracy: 74.25%\n"
     ]
    }
   ],
   "source": [
    "start_time = time.time()\n",
    "\n",
    "for epoch in range(NUM_EPOCHS):\n",
    "    model.train()\n",
    "    for batch_idx, batch_data in enumerate(train_loader):\n",
    "        \n",
    "        text = batch_data.Titulo.to(DEVICE)\n",
    "        labels = batch_data.Genero.to(DEVICE)\n",
    "\n",
    "        ### FORWARD AND BACK PROP\n",
    "        logits = model(text)\n",
    "        loss = F.cross_entropy(logits, labels)\n",
    "        optimizer.zero_grad()\n",
    "        \n",
    "        loss.backward()\n",
    "        \n",
    "        ### UPDATE MODEL PARAMETERS\n",
    "        optimizer.step()\n",
    "        \n",
    "        ### LOGGING\n",
    "        if not batch_idx % 50:\n",
    "            print (f'Epoch: {epoch+1:03d}/{NUM_EPOCHS:03d} | '\n",
    "                   f'Batch {batch_idx:03d}/{len(train_loader):03d} | '\n",
    "                   f'Loss: {loss:.4f}')\n",
    "\n",
    "    with torch.set_grad_enabled(False):\n",
    "        print(f'training accuracy: 'f'{compute_accuracy(model, train_loader, DEVICE):.2f}%')\n",
    "        \n",
    "    print(f'Time elapsed: {(time.time() - start_time)/60:.2f} min')\n",
    "    \n",
    "print(f'Total Training Time: {(time.time() - start_time)/60:.2f} min')\n",
    "\n",
    "print(f'Test accuracy: {compute_accuracy(model, test_loader, DEVICE):.2f}%')"
   ]
  },
  {
   "cell_type": "code",
   "execution_count": 27,
   "metadata": {},
   "outputs": [
    {
     "data": {
      "text/plain": [
       "tensor([[9.3545e-01, 5.4149e-02, 6.1653e-03, 1.2068e-03, 5.6960e-05, 8.0114e-04,\n",
       "         2.1715e-03]], grad_fn=<SoftmaxBackward0>)"
      ]
     },
     "execution_count": 27,
     "metadata": {},
     "output_type": "execute_result"
    }
   ],
   "source": [
    "import spacy\n",
    "\n",
    "\n",
    "nlp = spacy.blank(\"pt\")\n",
    "\n",
    "def predict(model, sentence):\n",
    "\n",
    "    model.eval()\n",
    "    tokenized = [tok.text for tok in nlp.tokenizer(sentence)]\n",
    "    indexed = [TEXT.vocab.stoi[t] for t in tokenized]\n",
    "    length = [len(indexed)]\n",
    "    tensor = torch.LongTensor(indexed).to(DEVICE)\n",
    "    tensor = tensor.unsqueeze(1)\n",
    "    length_tensor = torch.LongTensor(length)\n",
    "    prediction = torch.nn.functional.softmax(model(tensor), dim=1)\n",
    "    return prediction\n",
    "\n",
    "\n",
    "predict(model, \"uma histórica viagem que mudou o século\")"
   ]
  }
 ],
 "metadata": {
  "kernelspec": {
   "display_name": "Python 3",
   "language": "python",
   "name": "python3"
  },
  "language_info": {
   "codemirror_mode": {
    "name": "ipython",
    "version": 3
   },
   "file_extension": ".py",
   "mimetype": "text/x-python",
   "name": "python",
   "nbconvert_exporter": "python",
   "pygments_lexer": "ipython3",
   "version": "3.8.5"
  }
 },
 "nbformat": 4,
 "nbformat_minor": 4
}
