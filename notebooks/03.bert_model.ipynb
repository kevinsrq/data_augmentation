{
 "cells": [
  {
   "cell_type": "code",
   "execution_count": 1,
   "metadata": {},
   "outputs": [],
   "source": [
    "import pandas as pd\n",
    "import numpy as np\n",
    "import torch"
   ]
  },
  {
   "cell_type": "code",
   "execution_count": 2,
   "metadata": {},
   "outputs": [],
   "source": [
    "x_train_og = pd.read_csv('../data/processed/train_og.csv')\n",
    "\n",
    "LABELS = {'Historia': 0, 'Administracao': 1, 'Geografia': 2, 'Biologia': 3, \n",
    "          'Literatura': 4, 'Artes': 5, 'Matematica': 6}\n"
   ]
  },
  {
   "cell_type": "code",
   "execution_count": 3,
   "metadata": {},
   "outputs": [],
   "source": [
    "x_test = pd.read_csv('../data/processed/test.csv')"
   ]
  },
  {
   "cell_type": "code",
   "execution_count": 29,
   "metadata": {},
   "outputs": [],
   "source": [
    "def pad(l, content, width):\n",
    "    l.extend([content] * (width - len(l)))\n",
    "    return l"
   ]
  },
  {
   "cell_type": "code",
   "execution_count": 33,
   "metadata": {},
   "outputs": [],
   "source": [
    "import torch\n",
    "import pandas as pd\n",
    "\n",
    "# Load the CSV file\n",
    "\n",
    "# Create a Dataset object\n",
    "class MyDataset(torch.utils.data.Dataset):\n",
    "    \n",
    "    def __init__(self, data_path, get_embeddings=True):\n",
    "\n",
    "        data = pd.read_csv(data_path)\n",
    "\n",
    "        max_len = max([len(text_pipeline(x)) for x in datas['alt_title']])\n",
    "\n",
    "        if get_embeddings:\n",
    "            # self.alt_title = [text_pipeline(x).to(torch.long) for x in data.alt_title]\n",
    "            self.alt_title = torch.tensor([pad(text_pipeline(x), 0, max_len) for x in data['alt_title'].tolist()])\n",
    "        else: \n",
    "            self.alt_title = data['alt_title'].tolist()\n",
    "        # self.label = torch.tensor(data['label'].tolist(), dtype=torch.long)\n",
    "        self.label = torch.tensor([x for x in data['label']])\n",
    "\n",
    "    def __len__(self):\n",
    "        return len(self.alt_title)\n",
    "\n",
    "    def __getitem__(self, idx):\n",
    "        return self.alt_title[idx], self.label[idx]\n",
    "\n",
    "# Create the Dataset object\n",
    "dataset = MyDataset('../data/processed/train_aug.csv')\n"
   ]
  },
  {
   "cell_type": "code",
   "execution_count": 34,
   "metadata": {},
   "outputs": [],
   "source": [
    "BATH_SIZE = 32\n",
    "\n",
    "def collate_fn(batch):\n",
    "    \"\"\"\n",
    "    Collate function that pads all tensors to the same size.\n",
    "\n",
    "    Args:\n",
    "        batch: A list of tuples, where each tuple contains a text embedding tensor and a label tensor.\n",
    "\n",
    "    Returns:\n",
    "        A tuple of two tensors, where the first tensor is a padded text embedding tensor and the second tensor is a label tensor.\n",
    "    \"\"\"\n",
    "\n",
    "    # Get the maximum length of the text embeddings in the batch.\n",
    "    max_length = max([len(x[0]) for x in batch])\n",
    "\n",
    "    # Pad all of the text embeddings to the same length.\n",
    "    padded_text_embeddings = []\n",
    "    for x in batch:\n",
    "        padded_text_embeddings.append(torch.nn.functional.pad(x[0], (0, max_length - len(x[0]))))\n",
    "\n",
    "    # Get the labels from the batch.\n",
    "    labels = [x[1] for x in batch]\n",
    "\n",
    "    # Return the padded text embeddings and the labels.\n",
    "    return padded_text_embeddings, labels\n",
    "\n",
    "# Create a DataLoader object\n",
    "dataloader = torch.utils.data.DataLoader(dataset, batch_size=BATH_SIZE, shuffle=False, ) # collate_fn=collate_fn"
   ]
  },
  {
   "cell_type": "code",
   "execution_count": 54,
   "metadata": {},
   "outputs": [],
   "source": [
    "import torch\n",
    "import torch.nn as nn\n",
    "\n",
    "class GRUModel(nn.Module):\n",
    "    def __init__(self, vocab_size, embedding_dim, hidden_dim, num_classes, num_layers=10):\n",
    "        super(GRUModel, self).__init__()\n",
    "\n",
    "        # Embedding layer\n",
    "        # self.embedding = nn.Embedding(vocab_size, embedding_dim)\n",
    "        self.embedding = nn.Embedding(vocab_size, embedding_dim)\n",
    "\n",
    "        # GRU layer\n",
    "        # self.gru = nn.GRU(embedding_dim, hidden_dim)\n",
    "        self.gru = nn.GRU(embedding_dim, hidden_dim, num_layers)\n",
    "\n",
    "        # Fully connected layer\n",
    "        # self.fc = nn.Linear(hidden_dim, num_classes)\n",
    "        self.fc = nn.Linear(hidden_dim, num_classes)\n",
    "\n",
    "        self.init_weights()\n",
    "\n",
    "    def init_weights(self):\n",
    "        initrange = 0.5\n",
    "        self.embedding.weight.data.uniform_(-initrange, initrange)\n",
    "        self.fc.weight.data.uniform_(-initrange, initrange)\n",
    "        self.fc.bias.data.zero_()\n",
    "\n",
    "    def forward(self, x):\n",
    "        # Embed the input text\n",
    "        x = self.embedding(x)\n",
    "\n",
    "        # Pass the embedded input to the GRU layer\n",
    "        x, _ = self.gru(x)\n",
    "\n",
    "        # Take the last hidden state vector and pass it to the fully connected layer\n",
    "        x = self.fc(x[:, -1])\n",
    "\n",
    "        return x"
   ]
  },
  {
   "cell_type": "code",
   "execution_count": 61,
   "metadata": {},
   "outputs": [],
   "source": [
    "import torch\n",
    "from transformers import BertModel, BertTokenizer\n",
    "\n",
    "class CustomBERTModel(torch.nn.Module):\n",
    "    def __init__(self, pretrained_model_name):\n",
    "        super(CustomBERTModel, self).__init__()\n",
    "        \n",
    "        # Load the pre-trained BERT model and tokenizer\n",
    "        self.bert = BertModel.from_pretrained(pretrained_model_name)\n",
    "        self.tokenizer = BertTokenizer.from_pretrained(pretrained_model_name)\n",
    "\n",
    "    def forward(self, input_ids, attention_mask):\n",
    "        # Forward pass through the BERT model\n",
    "        outputs = self.bert(input_ids=input_ids, attention_mask=attention_mask)\n",
    "        return outputs\n",
    "\n"
   ]
  },
  {
   "cell_type": "code",
   "execution_count": 55,
   "metadata": {},
   "outputs": [],
   "source": [
    "# Access the alt_title data and convert it into a list\n",
    "alt_title_list = [item[0] for item in dataset]\n",
    "\n",
    "# Find the unique values in the alt_title data\n",
    "unique_alt_titles = list(set(alt_title_list))\n",
    "\n",
    "# Get the number of unique titles\n",
    "num_unique_titles = len(unique_alt_titles)"
   ]
  },
  {
   "cell_type": "code",
   "execution_count": 56,
   "metadata": {},
   "outputs": [
    {
     "data": {
      "text/plain": [
       "3488"
      ]
     },
     "execution_count": 56,
     "metadata": {},
     "output_type": "execute_result"
    }
   ],
   "source": [
    "num_unique_titles"
   ]
  },
  {
   "cell_type": "code",
   "execution_count": 57,
   "metadata": {},
   "outputs": [],
   "source": [
    "vocab_size = len(vocab)"
   ]
  },
  {
   "cell_type": "raw",
   "metadata": {},
   "source": [
    "\n",
    "# Create the model\n",
    "model = GRUModel(vocab_size, BATH_SIZE, BATH_SIZE, 7)\n",
    "\n",
    "# Define the loss function and optimizer\n",
    "criterion = nn.CrossEntropyLoss()\n",
    "optimizer = torch.optim.Adam(model.parameters())\n",
    "\n",
    "# Train the model\n",
    "for epoch in range(10):\n",
    "    for text, label in dataloader:\n",
    "        # Forward pass\n",
    "        outputs = model(text)\n",
    "        # _, predicted_classes = torch.max(outputs, 1)\n",
    "        # print(predicted_classes)\n",
    "        # Calculate the loss\n",
    "        loss = criterion(outputs, label)\n",
    "\n",
    "        # Backward pass and update the model parameters\n",
    "        optimizer.zero_grad()\n",
    "        loss.backward()\n",
    "        optimizer.step()\n",
    "\n",
    "# Evaluate the model\n",
    "correct = 0\n",
    "total = 0\n",
    "with torch.no_grad():\n",
    "    for batch in dataloader:\n",
    "        outputs = model(text)\n",
    "        _, predicted = torch.max(outputs.data, 1)\n",
    "        total += label.size(0)\n",
    "        correct += (predicted == label).sum().item()\n",
    "\n",
    "accuracy = 100 * correct / total\n",
    "print('Accuracy:', accuracy)\n"
   ]
  },
  {
   "cell_type": "code",
   "execution_count": 60,
   "metadata": {},
   "outputs": [
    {
     "name": "stdout",
     "output_type": "stream",
     "text": [
      "Epoch [1/10], Loss: 1.7786, Accuracy: 37.99%\n",
      "Epoch [2/10], Loss: 1.7399, Accuracy: 39.91%\n",
      "Epoch [3/10], Loss: 1.7354, Accuracy: 39.91%\n",
      "Epoch [4/10], Loss: 1.7325, Accuracy: 39.91%\n",
      "Epoch [5/10], Loss: 1.7304, Accuracy: 39.91%\n",
      "Epoch [6/10], Loss: 1.7287, Accuracy: 39.91%\n",
      "Epoch [7/10], Loss: 1.7273, Accuracy: 39.91%\n",
      "Epoch [8/10], Loss: 1.7261, Accuracy: 39.91%\n",
      "Epoch [9/10], Loss: 1.7250, Accuracy: 39.91%\n",
      "Epoch [10/10], Loss: 1.7242, Accuracy: 39.91%\n",
      "Final Accuracy: 39.908256880733944\n"
     ]
    }
   ],
   "source": [
    "model = GRUModel(vocab_size, BATH_SIZE, BATH_SIZE, 7, num_layers=20)\n",
    "\n",
    "# Define the loss function and optimizer\n",
    "criterion = nn.CrossEntropyLoss()\n",
    "optimizer = torch.optim.Adam(model.parameters())\n",
    "\n",
    "# Initialize variables to keep track of training statistics\n",
    "total_loss = 0\n",
    "correct = 0\n",
    "total = 0\n",
    "\n",
    "# Train the model\n",
    "for epoch in range(10):\n",
    "    model.train()  # Set the model to training mode\n",
    "    total_loss = 0\n",
    "    correct = 0\n",
    "    total = 0\n",
    "\n",
    "    for text, label in dataloader:\n",
    "        optimizer.zero_grad()\n",
    "\n",
    "        # Forward pass\n",
    "        outputs = model(text)\n",
    "\n",
    "        # Calculate the loss\n",
    "        loss = criterion(outputs, label)\n",
    "        \n",
    "        total_loss += loss.item()\n",
    "\n",
    "        torch.nn.utils.clip_grad_norm_(model.parameters(), 0.1)\n",
    "\n",
    "        # Backward pass and update the model parameters\n",
    "        loss.backward()\n",
    "        optimizer.step()\n",
    "\n",
    "        # Calculate accuracy for the current batch\n",
    "        _, predicted = torch.max(outputs, 1)\n",
    "        total += label.size(0)\n",
    "        correct += (predicted == label).sum().item()\n",
    "\n",
    "    # Print training statistics for the epoch\n",
    "    accuracy = 100 * correct / total\n",
    "    print(f'Epoch [{epoch + 1}/10], Loss: {total_loss / len(dataloader):.4f}, Accuracy: {accuracy:.2f}%')\n",
    "\n",
    "# Final accuracy after training\n",
    "print('Final Accuracy:', accuracy)\n"
   ]
  },
  {
   "cell_type": "code",
   "execution_count": 64,
   "metadata": {},
   "outputs": [
    {
     "ename": "ValueError",
     "evalue": "not enough values to unpack (expected 3, got 2)",
     "output_type": "error",
     "traceback": [
      "\u001b[1;31m---------------------------------------------------------------------------\u001b[0m",
      "\u001b[1;31mValueError\u001b[0m                                Traceback (most recent call last)",
      "\u001b[1;32mc:\\Users\\kevin\\OneDrive\\Documents\\GitHub\\data_augmentation\\notebooks\\test 3.ipynb Cell 15\u001b[0m line \u001b[0;36m1\n\u001b[0;32m     <a href='vscode-notebook-cell:/c%3A/Users/kevin/OneDrive/Documents/GitHub/data_augmentation/notebooks/test%203.ipynb#X24sZmlsZQ%3D%3D?line=13'>14</a>\u001b[0m model\u001b[39m.\u001b[39mtrain()\n\u001b[0;32m     <a href='vscode-notebook-cell:/c%3A/Users/kevin/OneDrive/Documents/GitHub/data_augmentation/notebooks/test%203.ipynb#X24sZmlsZQ%3D%3D?line=14'>15</a>\u001b[0m \u001b[39mfor\u001b[39;00m batch \u001b[39min\u001b[39;00m dataloader:\n\u001b[1;32m---> <a href='vscode-notebook-cell:/c%3A/Users/kevin/OneDrive/Documents/GitHub/data_augmentation/notebooks/test%203.ipynb#X24sZmlsZQ%3D%3D?line=15'>16</a>\u001b[0m     input_ids, attention_mask, labels \u001b[39m=\u001b[39m batch\n\u001b[0;32m     <a href='vscode-notebook-cell:/c%3A/Users/kevin/OneDrive/Documents/GitHub/data_augmentation/notebooks/test%203.ipynb#X24sZmlsZQ%3D%3D?line=16'>17</a>\u001b[0m     optimizer\u001b[39m.\u001b[39mzero_grad()\n\u001b[0;32m     <a href='vscode-notebook-cell:/c%3A/Users/kevin/OneDrive/Documents/GitHub/data_augmentation/notebooks/test%203.ipynb#X24sZmlsZQ%3D%3D?line=17'>18</a>\u001b[0m     outputs \u001b[39m=\u001b[39m custom_bert(input_ids, attention_mask)\n",
      "\u001b[1;31mValueError\u001b[0m: not enough values to unpack (expected 3, got 2)"
     ]
    }
   ],
   "source": [
    "model = CustomBERTModel('neuralmind/bert-base-portuguese-cased')\n",
    "\n",
    "# Define the loss function and optimizer\n",
    "criterion = nn.CrossEntropyLoss()\n",
    "optimizer = torch.optim.Adam(model.parameters())\n",
    "\n",
    "# Initialize variables to keep track of training statistics\n",
    "total_loss = 0\n",
    "correct = 0\n",
    "total = 0\n",
    "\n",
    "# Inside your training loop\n",
    "for epoch in range(10):\n",
    "    model.train()\n",
    "    for batch in dataloader:\n",
    "        input_ids, attention_mask, labels = batch\n",
    "        optimizer.zero_grad()\n",
    "        outputs = custom_bert(input_ids, attention_mask)\n",
    "        logits = outputs.logits\n",
    "        loss = criterion(logits, labels)\n",
    "        loss.backward()\n",
    "        optimizer.step()\n",
    "\n",
    "    # Validation and evaluation code here\n",
    "\n",
    "# Final accuracy after training\n",
    "print('Final Accuracy:', accuracy)\n"
   ]
  }
 ],
 "metadata": {
  "kernelspec": {
   "display_name": "Python 3",
   "language": "python",
   "name": "python3"
  },
  "language_info": {
   "codemirror_mode": {
    "name": "ipython",
    "version": 3
   },
   "file_extension": ".py",
   "mimetype": "text/x-python",
   "name": "python",
   "nbconvert_exporter": "python",
   "pygments_lexer": "ipython3",
   "version": "3.11.4"
  }
 },
 "nbformat": 4,
 "nbformat_minor": 2
}
